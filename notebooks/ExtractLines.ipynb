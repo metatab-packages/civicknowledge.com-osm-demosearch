{
 "cells": [
  {
   "cell_type": "code",
   "execution_count": 1,
   "metadata": {},
   "outputs": [],
   "source": [
    "%load_ext autoreload\n",
    "%autoreload 2\n",
    "from pathlib import Path\n",
    "import metapack as mp\n",
    "import numpy as np\n",
    "mp.jupyter.init() # Makes 'index:' url work\n",
    "import metapack as mp\n",
    "\n",
    "#pkg = mp.jupyter.open_package()\n",
    "pkg = mp.jupyter.open_source_package()\n",
    "pkg.set_sys_path()\n",
    "import pylib\n"
   ]
  },
  {
   "cell_type": "code",
   "execution_count": 2,
   "metadata": {},
   "outputs": [
    {
     "name": "stdout",
     "output_type": "stream",
     "text": [
      "/Users/eric/proj/code-projects/radius-search/staging/civicknowledge.com-osm-demosearch/data/csv/lines.csv\n"
     ]
    }
   ],
   "source": [
    "from IPython.display import display, clear_output\n",
    "fp = pkg.reference('lines').resolved_url.fspath\n"
   ]
  },
  {
   "cell_type": "code",
   "execution_count": 3,
   "metadata": {},
   "outputs": [
    {
     "name": "stdout",
     "output_type": "stream",
     "text": [
      "-- Split the input file\n",
      "CPU times: user 691 µs, sys: 204 µs, total: 895 µs\n",
      "Wall time: 898 µs\n",
      "-- Run the overlay process\n",
      "CPU times: user 736 µs, sys: 251 µs, total: 987 µs\n",
      "Wall time: 992 µs\n"
     ]
    }
   ],
   "source": [
    "cache = pylib.open_cache(pkg)\n",
    "\n",
    "print('-- Split the input file')\n",
    "%time splits = pylib.split_data(pkg, cache)\n",
    "print('-- Run the overlay process')\n",
    "%time recombine_keys = pylib.run_overlay(splits, cache)\n",
    "\n",
    "print('-- Simplify lines')\n",
    "%time simplified_keys = pylib.simplify_lines(cache, recombine_keys)\n",
    "\n",
    "print('--- Write the roads files')\n",
    "pylib.write_files(pkg, simplified_keys)\n"
   ]
  }
 ],
 "metadata": {
  "kernelspec": {
   "display_name": "Python 3",
   "language": "python",
   "name": "python3"
  },
  "language_info": {
   "codemirror_mode": {
    "name": "ipython",
    "version": 3
   },
   "file_extension": ".py",
   "mimetype": "text/x-python",
   "name": "python",
   "nbconvert_exporter": "python",
   "pygments_lexer": "ipython3",
   "version": "3.7.9"
  }
 },
 "nbformat": 4,
 "nbformat_minor": 4
}
