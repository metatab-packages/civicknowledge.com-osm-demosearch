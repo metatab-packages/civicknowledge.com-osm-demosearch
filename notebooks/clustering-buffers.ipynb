{
 "cells": [
  {
   "cell_type": "code",
   "execution_count": 1,
   "id": "threaded-madness",
   "metadata": {},
   "outputs": [
    {
     "data": {
      "text/html": [
       "<h1>Open Street Map Extract for Demographic Search</h1>\n",
       "<p><code>civicknowledge.com-osm-demosearch-1.2.1</code> Last Update: 2021-02-15T17:38:34</p>\n",
       "<p>__</p>\n",
       "<h2>Contacts</h2>\n",
       "<ul>\n",
       "<li><strong>Wrangler</strong> <a href=\"mailto:eric@civicknowledge.com\">Eric Busboom</a>, <a href=\"http://civicknowledge.com\">Civic Knowledge</a></li>\n",
       "</ul>\n",
       "<h2>Resources</h2>\n",
       "<ul>\n",
       "<li><strong> <a href=\"data/point_tags.csv\">point_tags</a></strong>. Points converted to counts of tags per geohash</li>\n",
       "<li><strong> <a href=\"data/residential_roads.csv\">residential_roads</a></strong>. Residential roads per 4 digit geohash</li>\n",
       "<li><strong> <a href=\"data/nonres_roads.csv\">nonres_roads</a></strong>. Non residential roads per 4 digit geohash</li>\n",
       "<li><strong> <a href=\"data/block_geo.csv\">block_geo</a></strong>. Geographic shapes for blocs in block_osm</li>\n",
       "<li><strong> <a href=\"data/block_osm.csv\">block_osm</a></strong>. Points from geohash_tags allocated to 2020 census blocks</li>\n",
       "<li><strong> <a href=\"data/utm_map.csv\">utm_map</a></strong>. Map from census blocks to UTM zones</li>\n",
       "<li><strong> <a href=\"data/cbsa_map.csv\">cbsa_map</a></strong>. Map from census blocks to CBSA Metros</li>\n",
       "<li><strong> <a href=\"notebooks/PointDensity.ipynb#bus_densities\">bus_densities</a></strong>. High-density business goehashes</li>\n",
       "</ul>\n",
       "<h2>References</h2>\n",
       "<ul><li> <strong>us_geohashes</string>, <em>metapack+http://library.metatab.org/civicknowledge.com-geohash-us.csv#us_geohashes</em>. All 4 digit geohases in the continential US</li><li> <strong><a href=\"https://download.geofabrik.de/north-america-latest.osm.pbf\">north-america-latest</a></strong>. OSM North America extract</li><li> <strong>utm_grid</string>, <em>metapack+http://library.metatab.org/civicknowledge.com-mgrs.csv#utm_grid</em>. </li><li> <strong>points</string>, <em>data/csv/points.csv</em>. Points from the OSM file</li><li> <strong>lines</string>, <em>data/csv/lines.csv</em>. Lines from the OSM file</li><li> <strong>multipolygons</string>, <em>data/csv/multipolygons.csv</em>. Polygons from the OSM file</li><li> <strong>multilinestrings</string>, <em>data/csv/multilinestrings.csv</em>. Lines from the OSM file</li><li> <strong>other_relations</string>, <em>data/csv/other_relations.csv</em>. Other geo data from the OSM file</li><li> <strong>block_templ</string>, <em>censusgeo://2020/5/{st}/block</em>. Block url template</li><li> <strong>cbsa</string>, <em>censusgeo://2020/5/US/cbsa</em>. Metro areas</li><ul>"
      ],
      "text/plain": [
       "# Open Street Map Extract for Demographic Search\n",
       "`civicknowledge.com-osm-demosearch-1.2.1` Last Update: 2021-02-15T17:38:34\n",
       "\n",
       "__\n",
       "\n",
       "\n",
       "\n",
       "\n",
       " \n",
       "\n",
       "## Contacts\n",
       "\n",
       "* **Wrangler** [Eric Busboom](mailto:eric@civicknowledge.com), [Civic Knowledge](http://civicknowledge.com)\n",
       "\n",
       "## Resources\n",
       "\n",
       "* ** [point_tags](data/point_tags.csv)**. Points converted to counts of tags per geohash\n",
       "* ** [residential_roads](data/residential_roads.csv)**. Residential roads per 4 digit geohash\n",
       "* ** [nonres_roads](data/nonres_roads.csv)**. Non residential roads per 4 digit geohash\n",
       "* ** [block_geo](data/block_geo.csv)**. Geographic shapes for blocs in block_osm\n",
       "* ** [block_osm](data/block_osm.csv)**. Points from geohash_tags allocated to 2020 census blocks\n",
       "* ** [utm_map](data/utm_map.csv)**. Map from census blocks to UTM zones\n",
       "* ** [cbsa_map](data/cbsa_map.csv)**. Map from census blocks to CBSA Metros\n",
       "* ** [bus_densities](notebooks/PointDensity.ipynb#bus_densities)**. High-density business goehashes\n",
       "\n",
       "## References\n",
       "<ul><li> <strong>us_geohashes</string>, <em>metapack+http://library.metatab.org/civicknowledge.com-geohash-us.csv#us_geohashes</em>. All 4 digit geohases in the continential US</li><li> <strong><a href=\"https://download.geofabrik.de/north-america-latest.osm.pbf\">north-america-latest</a></strong>. OSM North America extract</li><li> <strong>utm_grid</string>, <em>metapack+http://library.metatab.org/civicknowledge.com-mgrs.csv#utm_grid</em>. </li><li> <strong>points</string>, <em>data/csv/points.csv</em>. Points from the OSM file</li><li> <strong>lines</string>, <em>data/csv/lines.csv</em>. Lines from the OSM file</li><li> <strong>multipolygons</string>, <em>data/csv/multipolygons.csv</em>. Polygons from the OSM file</li><li> <strong>multilinestrings</string>, <em>data/csv/multilinestrings.csv</em>. Lines from the OSM file</li><li> <strong>other_relations</string>, <em>data/csv/other_relations.csv</em>. Other geo data from the OSM file</li><li> <strong>block_templ</string>, <em>censusgeo://2020/5/{st}/block</em>. Block url template</li><li> <strong>cbsa</string>, <em>censusgeo://2020/5/US/cbsa</em>. Metro areas</li><ul>\n"
      ]
     },
     "execution_count": 1,
     "metadata": {},
     "output_type": "execute_result"
    }
   ],
   "source": [
    "%load_ext autoreload\n",
    "%autoreload 2\n",
    "    \n",
    "import fiona\n",
    "from pathlib import Path\n",
    "import metapack as mp\n",
    "import geopandas as gpd\n",
    "import pandas as pd\n",
    "import numpy as np\n",
    "from auto_tqdm import tqdm \n",
    "import appnope\n",
    "\n",
    "doc = mp.jupyter.open_source_package()\n",
    "doc.set_sys_path()\n",
    "import  pylib \n",
    "\n",
    "ea_epsg = 2163 #US Equal Area projection\n",
    "\n",
    "import logging\n",
    "logging.basicConfig()\n",
    "\n",
    "from pylib import lines_logger, points_logger\n",
    "lines_logger.setLevel(logging.DEBUG)\n",
    "points_logger.setLevel(logging.DEBUG)\n",
    "\n",
    "pkg_root = Path(doc.path).parent\n",
    "pkg = mp.open_package(pkg_root)\n",
    "cache = pylib.open_cache(pkg)\n",
    "pkg\n"
   ]
  },
  {
   "cell_type": "code",
   "execution_count": 65,
   "id": "conservative-humanity",
   "metadata": {},
   "outputs": [
    {
     "data": {
      "text/plain": [
       "CBSAResult(lat=33.0236041, lon=-116.7761174, pt=(33.0236041, -116.7761174), area=817317026.0, bb=(-117.611081, 32.528832, -116.08094, 33.505024999999996), name='San Diego-Chula Vista-Carlsbad, CA', geoid='31000US41740')"
      ]
     },
     "execution_count": 65,
     "metadata": {},
     "output_type": "execute_result"
    }
   ],
   "source": [
    "from demosearch import FileCache\n",
    "from demosearch.search import ftsearch\n",
    "import utm\n",
    "from collections import defaultdict\n",
    "\n",
    "fc = FileCache('/Volumes/SSD_Extern/radius/')\n",
    "def ftbb(s):\n",
    "    bb = ftsearch(fc, s)[0].bb\n",
    "    return (slice(bb[0],bb[2]), slice(bb[1],bb[3]))\n",
    "\n",
    "ftbb('San Diego')\n",
    "r=ftsearch(fc, 'San Diego')[0]\n",
    "r"
   ]
  },
  {
   "cell_type": "code",
   "execution_count": 100,
   "id": "applicable-brown",
   "metadata": {},
   "outputs": [],
   "source": [
    "\n",
    "\n",
    "pkg_root = Path(doc.path).parent\n",
    "pkg = mp.open_package(pkg_root)\n",
    "cache = pylib.open_cache(pkg)"
   ]
  },
  {
   "cell_type": "code",
   "execution_count": 167,
   "id": "aboriginal-competition",
   "metadata": {},
   "outputs": [
    {
     "data": {
      "text/plain": [
       "('/clusters/points/31000US10180', '/clusters/buffered/31000US10180')"
      ]
     },
     "execution_count": 167,
     "metadata": {},
     "output_type": "execute_result"
    }
   ],
   "source": [
    "def get_points_tags(pkg, cache):\n",
    "\n",
    "    key = '/clusters/point_tags'\n",
    "    if not cache.exists(key):\n",
    "        pt  = pkg.resource('point_tags').geoframe()\n",
    "        cache.put(key, pt)\n",
    "    else:\n",
    "        pt = cache.get(key)\n",
    "        \n",
    "    return pt\n",
    "\n",
    "def point_groups(df):\n",
    "    \"\"\"Reduce the set of tags down to a smaller set\"\"\"\n",
    "    df = df.copy()\n",
    "    \n",
    "    groups = {\n",
    "        'entertain': ['cafe', 'restaurant', 'bar'],\n",
    "        'casual': ['fast_food', 'convenience'],\n",
    "        'shop': ['shop', 'clothes', 'supermarket', 'bank', 'laundry', 'parking'],\n",
    "        'active': ['playground', 'bicycle_parking', 'fitness_centre', 'park'],\n",
    "        'travel': ['fuel', 'hotel', 'amenity', 'tourism', 'leisure', 'natural']\n",
    "    }\n",
    "\n",
    "    for agg, cols in groups.items():\n",
    "        # Reduce all of the layers to 1 per geohash. Anymore than that is probably spurious\n",
    "        df.loc[:, cols] = (df.loc[:, cols] > 0).astype(np.int8)\n",
    "        df[agg] = df[cols].sum(axis=1)\n",
    "\n",
    "    return df.loc[:, ['geoid', 'geohash', 'geometry'] + list(groups.keys())]\n",
    "\n",
    "\n",
    "def link_elements(a_ids, b_ids):\n",
    "    \n",
    "    cluster_n  = 0\n",
    "    clusters = {}\n",
    "    \n",
    "    def find_cluster(clusters, a,b):\n",
    "        if a in clusters:\n",
    "            return clusters[a]\n",
    "        if b in clusters:\n",
    "            return clusters[b]\n",
    "        return None\n",
    "    \n",
    "    \n",
    "    for a, b in  zip(a_ids, b_ids):\n",
    "        a = int(a)\n",
    "        b = int(b)\n",
    "        c = find_cluster(clusters, a,b)\n",
    "\n",
    "        if c is None:\n",
    "            c  = cluster_n\n",
    "            cluster_n += 1\n",
    "\n",
    "        clusters[a] = c\n",
    "        clusters[b] = c\n",
    "        \n",
    "    return clusters\n",
    "        \n",
    "def rebuild_geo(clusters, df):\n",
    "    cdf = pd.DataFrame(clusters.items(), columns=['index', 'cluster_n']).set_index('index')\n",
    "\n",
    "    g = gpd.GeoDataFrame({'geometry': df.join(cdf).groupby('cluster_n').apply(lambda g: g.unary_union)},\n",
    "                         crs = df.crs)\n",
    "    return g\n",
    "    \n",
    "def merge_points(df):\n",
    "    t = gpd.sjoin(df, df, op='intersects')  \n",
    "    clusters = link_elements(t.index, t.index_right)\n",
    "    return rebuild_geo(clusters, t)\n",
    "\n",
    "def to_gdf(s, crs):\n",
    "    return gpd.GeoDataFrame({'geometry':s}, crs=crs)\n",
    "\n",
    "def  multi_buffer_and_merge(df):\n",
    "    \"\"\"Buffer and merge points multiple times to build clusters\"\"\"\n",
    "    \n",
    "    df = df.copy()\n",
    "    \n",
    "    df['geometry'] = df.buffer(60)\n",
    "\n",
    "    g1 = merge_points(df)\n",
    "\n",
    "    g = to_gdf(g1.buffer(30), df.crs)\n",
    "    g2 = merge_points(g)\n",
    "\n",
    "    g = to_gdf(g2.buffer(30), df.crs)\n",
    "    return merge_points(g)\n",
    "    \n",
    "\n",
    "def rebuffer_points(points):\n",
    "    from shapely.geometry import box\n",
    "    t = points.buffer(150).bounds\n",
    "    t = gpd.GeoSeries([ box(*r.to_list()) for idx, r in t.iterrows()]).unary_union\\\n",
    "            .simplify(20).buffer(20)\n",
    "\n",
    "    return gpd.GeoSeries(t, crs=points.crs)\n",
    " \n",
    "\n",
    "def build_buffered_clusters(cache, df, epsg, idx):\n",
    "    \n",
    "    k1 = f'/clusters/points/{idx}'\n",
    "    k2 = f'/clusters/buffered/{idx}'\n",
    "    \n",
    "    if cache.exists(k1):\n",
    "    \n",
    "        mpg = point_groups(df).to_crs(epsg)\n",
    "\n",
    "        ent_clst = multi_buffer_and_merge(mpg[mpg.entertain>0])\n",
    "        shop_clst = multi_buffer_and_merge(mpg[mpg.shop>0])\n",
    "        casual_clst = multi_buffer_and_merge(mpg[mpg.casual>0])\n",
    "\n",
    "        clusters = pd.concat([\n",
    "            ent_clst.assign(cluster_type='ent'),\n",
    "            shop_clst.assign(cluster_type='shop'),\n",
    "            casual_clst.assign(cluster_type='casual')\n",
    "        ])\n",
    "\n",
    "        clusters = clusters.reset_index()\n",
    "        clusters['cluster_n'] = clusters.index\n",
    "\n",
    "        mpg = gpd.sjoin(mpg, clusters.reset_index())\n",
    "\n",
    "        buffered_clusters = mpg.groupby('cluster_n').apply(rebuffer_points)\n",
    "        buffered_clusters.columns = ['geometry']\n",
    "        buffered_clusters = buffered_clusters\\\n",
    "                            .reset_index()\\\n",
    "                            .merge(clusters[['cluster_n', 'cluster_type']])\\\n",
    "                            .set_crs(epsg)\\\n",
    "                            [['cluster_n','cluster_type','geometry']]\n",
    "\n",
    "\n",
    "        cache.put(k1, mpg) \n",
    "        cache.put(k2, buffered_clusters)\n",
    "\n",
    "    return k1, k2\n",
    "    \n",
    "def cache_points_epsg(pkg, cache):\n",
    "    if not cache.exists('/clusters/source_points/32611'):\n",
    "        utm_grid = pkg.reference('utm_grid').geoframe()\n",
    "        pt = get_points_tags(pkg, cache)\n",
    "        t = gpd.sjoin(pt, utm_grid)\n",
    "        for idx, g in tqdm(t.groupby('epsg')):\n",
    "            key = f'/clusters/source_points/eps/{idx}'\n",
    "            cache.put(key, g)\n",
    "            \n",
    "def cache_points_cbsa(pkg, cache):\n",
    "    if not cache.exists('/clusters/source_points/cbsa/31000US41740'): # San Diego\n",
    "        utm_grid = pkg.reference('utm_grid').geoframe()\n",
    "        pt = get_points_tags(pkg, cache)\n",
    "        t = gpd.sjoin(pt, utm_grid)\n",
    "        for idx, g in tqdm(t.groupby('geoid')):\n",
    "            key = f'/clusters/source_points/cbsa/{idx}'\n",
    "            cache.put(key, g)\n",
    "\n",
    "\n",
    "def run_cbsa_clusters(cache, geoid):\n",
    "    key = f'/clusters/source_points/cbsa/{geoid}'\n",
    "    pt = cache.get(key)\n",
    "    \n",
    "    epsg = int(pt.epsg.value_counts().index[0])\n",
    "\n",
    "    try:\n",
    "        return build_buffered_clusters(cache, pt, epsg, geoid)\n",
    "    except Exception as e:\n",
    "        return (e, geoid)\n",
    "        raise\n",
    "    \n",
    "#cache_points_cbsa(pkg, cache)\n",
    "#%time k1, k2 = run_cbsa_clusters(pkg, cache, '31000US41740')\n",
    "\n",
    "run_cbsa_clusters(cache, '31000US10180')\n"
   ]
  },
  {
   "cell_type": "code",
   "execution_count": null,
   "id": "center-tsunami",
   "metadata": {},
   "outputs": [
    {
     "data": {
      "application/vnd.jupyter.widget-view+json": {
       "model_id": "3dea0753f9324e98acba84bd21283581",
       "version_major": 2,
       "version_minor": 0
      },
      "text/plain": [
       "  0%|          | 0/927 [00:00<?, ?it/s]"
      ]
     },
     "metadata": {},
     "output_type": "display_data"
    }
   ],
   "source": [
    "tasks = [ (cache, e.stem) for e in cache.list('clusters/source_points/cbsa') ]\n",
    "\n",
    "from demosearch.util import run_mp\n",
    "r = run_mp(run_cbsa_clusters, tasks)\n"
   ]
  },
  {
   "cell_type": "code",
   "execution_count": 171,
   "id": "isolated-graph",
   "metadata": {},
   "outputs": [
    {
     "data": {
      "text/plain": [
       "('/clusters/points/31000US11660', '/clusters/buffered/31000US11660')"
      ]
     },
     "execution_count": 171,
     "metadata": {},
     "output_type": "execute_result"
    }
   ],
   "source": [
    "run_cbsa_clusters(cache, '31000US11660')"
   ]
  },
  {
   "cell_type": "code",
   "execution_count": null,
   "id": "pursuant-order",
   "metadata": {},
   "outputs": [],
   "source": [
    "for k1, k2 in r:\n",
    "    if isinstance(k1, Exception):\n",
    "        print(k1)"
   ]
  },
  {
   "cell_type": "code",
   "execution_count": 173,
   "id": "sitting-summer",
   "metadata": {},
   "outputs": [],
   "source": [
    "metro_point_keys = [k1 for k1, k2 in r  if not isinstance(k1, Exception)]\n",
    "cluster_keys = [k2 for k1, k2 in r  if not isinstance(k1, Exception)]"
   ]
  },
  {
   "cell_type": "code",
   "execution_count": 175,
   "id": "considerable-google",
   "metadata": {},
   "outputs": [
    {
     "data": {
      "application/vnd.jupyter.widget-view+json": {
       "model_id": "",
       "version_major": 2,
       "version_minor": 0
      },
      "text/plain": [
       "  0%|          | 0/338 [00:00<?, ?it/s]"
      ]
     },
     "metadata": {},
     "output_type": "display_data"
    }
   ],
   "source": [
    "frames = [cache.get(k) for k in tqdm(metro_point_keys)]\n",
    "    "
   ]
  },
  {
   "cell_type": "code",
   "execution_count": 178,
   "id": "mobile-transaction",
   "metadata": {},
   "outputs": [
    {
     "data": {
      "text/plain": [
       "(338, 927)"
      ]
     },
     "execution_count": 178,
     "metadata": {},
     "output_type": "execute_result"
    }
   ],
   "source": [
    "len(frames), len(tasks)"
   ]
  },
  {
   "cell_type": "code",
   "execution_count": 81,
   "id": "equal-train",
   "metadata": {},
   "outputs": [
    {
     "data": {
      "text/plain": [
       "<AxesSubplot:>"
      ]
     },
     "execution_count": 81,
     "metadata": {},
     "output_type": "execute_result"
    },
    {
     "data": {
      "image/png": "[encoded data removed]",
      "text/plain": [
       "<Figure size 432x288 with 1 Axes>"
      ]
     },
     "metadata": {
      "needs_background": "light"
     },
     "output_type": "display_data"
    }
   ],
   "source": [
    "# Pacific Beach\n",
    "\n",
    "clusters.to_crs(4326).cx[-117.26:-117.22,32.78:32.82].plot()\n",
    "\n"
   ]
  },
  {
   "cell_type": "code",
   "execution_count": 17,
   "id": "dynamic-peninsula",
   "metadata": {},
   "outputs": [],
   "source": [
    "sd_points.to_file('business_points_clusters.geojson', driver='GeoJSON')\n",
    "clusters.to_file('business_bubble_clusters.geojson', driver='GeoJSON')\n",
    "bc.to_file('business_clusters.geojson', driver='GeoJSON')"
   ]
  }
 ],
 "metadata": {
  "kernelspec": {
   "display_name": "Python 3",
   "language": "python",
   "name": "python3"
  },
  "language_info": {
   "codemirror_mode": {
    "name": "ipython",
    "version": 3
   },
   "file_extension": ".py",
   "mimetype": "text/x-python",
   "name": "python",
   "nbconvert_exporter": "python",
   "pygments_lexer": "ipython3",
   "version": "3.7.9"
  },
  "toc-autonumbering": false,
  "toc-showcode": false,
  "toc-showmarkdowntxt": false
 },
 "nbformat": 4,
 "nbformat_minor": 5
}
