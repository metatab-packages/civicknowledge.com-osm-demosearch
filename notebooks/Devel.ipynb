{
 "cells": [
  {
   "cell_type": "code",
   "execution_count": 47,
   "id": "guilty-healing",
   "metadata": {},
   "outputs": [
    {
     "name": "stdout",
     "output_type": "stream",
     "text": [
      "The autoreload extension is already loaded. To reload it, use:\n",
      "  %reload_ext autoreload\n"
     ]
    },
    {
     "data": {
      "text/html": [
       "<h1>Open Street Map Extract for Demographic Search</h1>\n",
       "<p><code>civicknowledge.com-osm-demosearch-1.2.1</code> Last Update: 2021-02-15T17:38:34</p>\n",
       "<p>__</p>\n",
       "<h2>Contacts</h2>\n",
       "<ul>\n",
       "<li><strong>Wrangler</strong> <a href=\"mailto:eric@civicknowledge.com\">Eric Busboom</a>, <a href=\"http://civicknowledge.com\">Civic Knowledge</a></li>\n",
       "</ul>\n",
       "<h2>Resources</h2>\n",
       "<ul>\n",
       "<li><strong> <a href=\"data/point_tags.csv\">point_tags</a></strong>. Points converted to counts of tags per geohash</li>\n",
       "<li><strong> <a href=\"data/residential_roads.csv\">residential_roads</a></strong>. Residential roads per 4 digit geohash</li>\n",
       "<li><strong> <a href=\"data/nonres_roads.csv\">nonres_roads</a></strong>. Non residential roads per 4 digit geohash</li>\n",
       "<li><strong> <a href=\"data/block_geo.csv\">block_geo</a></strong>. Geographic shapes for blocs in block_osm</li>\n",
       "<li><strong> <a href=\"data/block_osm.csv\">block_osm</a></strong>. Points from geohash_tags allocated to 2020 census blocks</li>\n",
       "<li><strong> <a href=\"data/utm_map.csv\">utm_map</a></strong>. Map from census blocks to UTM zones</li>\n",
       "<li><strong> <a href=\"data/cbsa_map.csv\">cbsa_map</a></strong>. Map from census blocks to CBSA Metros</li>\n",
       "<li><strong> <a href=\"notebooks/PointDensity.ipynb#bus_densities\">bus_densities</a></strong>. High-density business goehashes</li>\n",
       "</ul>\n",
       "<h2>References</h2>\n",
       "<ul><li> <strong>us_geohashes</string>, <em>metapack+http://library.metatab.org/civicknowledge.com-geohash-us.csv#us_geohashes</em>. All 4 digit geohases in the continential US</li><li> <strong><a href=\"https://download.geofabrik.de/north-america-latest.osm.pbf\">north-america-latest</a></strong>. OSM North America extract</li><li> <strong>utm_grid</string>, <em>metapack+http://library.metatab.org/civicknowledge.com-mgrs.csv#utm_grid</em>. </li><li> <strong>points</string>, <em>data/csv/points.csv</em>. Points from the OSM file</li><li> <strong>lines</string>, <em>data/csv/lines.csv</em>. Lines from the OSM file</li><li> <strong>multipolygons</string>, <em>data/csv/multipolygons.csv</em>. Polygons from the OSM file</li><li> <strong>multilinestrings</string>, <em>data/csv/multilinestrings.csv</em>. Lines from the OSM file</li><li> <strong>other_relations</string>, <em>data/csv/other_relations.csv</em>. Other geo data from the OSM file</li><li> <strong>block_templ</string>, <em>censusgeo://2020/5/{st}/block</em>. Block url template</li><li> <strong>cbsa</string>, <em>censusgeo://2020/5/US/cbsa</em>. Metro areas</li><ul>"
      ],
      "text/plain": [
       "# Open Street Map Extract for Demographic Search\n",
       "`civicknowledge.com-osm-demosearch-1.2.1` Last Update: 2021-02-15T17:38:34\n",
       "\n",
       "__\n",
       "\n",
       "\n",
       "\n",
       "\n",
       " \n",
       "\n",
       "## Contacts\n",
       "\n",
       "* **Wrangler** [Eric Busboom](mailto:eric@civicknowledge.com), [Civic Knowledge](http://civicknowledge.com)\n",
       "\n",
       "## Resources\n",
       "\n",
       "* ** [point_tags](data/point_tags.csv)**. Points converted to counts of tags per geohash\n",
       "* ** [residential_roads](data/residential_roads.csv)**. Residential roads per 4 digit geohash\n",
       "* ** [nonres_roads](data/nonres_roads.csv)**. Non residential roads per 4 digit geohash\n",
       "* ** [block_geo](data/block_geo.csv)**. Geographic shapes for blocs in block_osm\n",
       "* ** [block_osm](data/block_osm.csv)**. Points from geohash_tags allocated to 2020 census blocks\n",
       "* ** [utm_map](data/utm_map.csv)**. Map from census blocks to UTM zones\n",
       "* ** [cbsa_map](data/cbsa_map.csv)**. Map from census blocks to CBSA Metros\n",
       "* ** [bus_densities](notebooks/PointDensity.ipynb#bus_densities)**. High-density business goehashes\n",
       "\n",
       "## References\n",
       "<ul><li> <strong>us_geohashes</string>, <em>metapack+http://library.metatab.org/civicknowledge.com-geohash-us.csv#us_geohashes</em>. All 4 digit geohases in the continential US</li><li> <strong><a href=\"https://download.geofabrik.de/north-america-latest.osm.pbf\">north-america-latest</a></strong>. OSM North America extract</li><li> <strong>utm_grid</string>, <em>metapack+http://library.metatab.org/civicknowledge.com-mgrs.csv#utm_grid</em>. </li><li> <strong>points</string>, <em>data/csv/points.csv</em>. Points from the OSM file</li><li> <strong>lines</string>, <em>data/csv/lines.csv</em>. Lines from the OSM file</li><li> <strong>multipolygons</string>, <em>data/csv/multipolygons.csv</em>. Polygons from the OSM file</li><li> <strong>multilinestrings</string>, <em>data/csv/multilinestrings.csv</em>. Lines from the OSM file</li><li> <strong>other_relations</string>, <em>data/csv/other_relations.csv</em>. Other geo data from the OSM file</li><li> <strong>block_templ</string>, <em>censusgeo://2020/5/{st}/block</em>. Block url template</li><li> <strong>cbsa</string>, <em>censusgeo://2020/5/US/cbsa</em>. Metro areas</li><ul>\n"
      ]
     },
     "execution_count": 47,
     "metadata": {},
     "output_type": "execute_result"
    }
   ],
   "source": [
    "%load_ext autoreload\n",
    "%autoreload 2\n",
    "    \n",
    "import fiona\n",
    "from pathlib import Path\n",
    "import metapack as mp\n",
    "import geopandas as gpd\n",
    "import pandas as pd\n",
    "import numpy as np\n",
    "from auto_tqdm import tqdm \n",
    "import appnope\n",
    "\n",
    "doc = mp.jupyter.open_source_package()\n",
    "doc.set_sys_path()\n",
    "import  pylib \n",
    "\n",
    "ea_epsg = 2163 #US Equal Area projection\n",
    "\n",
    "import logging\n",
    "logging.basicConfig()\n",
    "\n",
    "from pylib import lines_logger, points_logger\n",
    "lines_logger.setLevel(logging.DEBUG)\n",
    "points_logger.setLevel(logging.DEBUG)\n",
    "\n",
    "pkg_root = Path(doc.path).parent\n",
    "pkg = mp.open_package(pkg_root)\n",
    "cache = pylib.open_cache(pkg)\n",
    "pkg\n"
   ]
  },
  {
   "cell_type": "code",
   "execution_count": 48,
   "id": "perfect-livestock",
   "metadata": {},
   "outputs": [],
   "source": [
    "#%time tags_df = pylib.make_tags_df(pkg)"
   ]
  },
  {
   "cell_type": "code",
   "execution_count": 5,
   "id": "corresponding-marketing",
   "metadata": {},
   "outputs": [
    {
     "name": "stdout",
     "output_type": "stream",
     "text": [
      "CPU times: user 13.2 s, sys: 5.23 s, total: 18.4 s\n",
      "Wall time: 18.9 s\n"
     ]
    }
   ],
   "source": [
    "%%time \n",
    "try:\n",
    "    points_df = cache.get_df('points/points/df')\n",
    "except KeyError:\n",
    "    points_df = pkg.reference('points').read_csv(low_memory=False)\n",
    "    cache.put_df('points/points/df', points_df)"
   ]
  },
  {
   "cell_type": "code",
   "execution_count": 9,
   "id": "nasty-zealand",
   "metadata": {},
   "outputs": [],
   "source": [
    "from demosearch.util import run_mp"
   ]
  },
  {
   "cell_type": "code",
   "execution_count": 10,
   "id": "interpreted-morning",
   "metadata": {},
   "outputs": [],
   "source": [
    "# Split the file and extract tags in multiprocessing\n",
    "N_task = 200\n",
    "tasks = [(e, pylib.extract_tag_names) for e in np.array_split(points_df, N_task)]\n",
    "\n",
    "results = run_mp(pylib.extract_tags, tasks, 'Split OSM other_tags')"
   ]
  },
  {
   "cell_type": "code",
   "execution_count": 13,
   "id": "quarterly-fifty",
   "metadata": {},
   "outputs": [],
   "source": [
    "from itertools import chain\n",
    "tags = list(chain(*[e[0] for e in results]))\n",
    "errors = list(chain(*[e[1] for e in results]))\n",
    "\n",
    "tags_df = pd.DataFrame(tags, columns=['osm_id'] + pylib.extract_tag_names)\n",
    "\n",
    "# 1/2 the entries, 2.7M are trees and rocks\n",
    "tags_df = tags_df[~tags_df.natural.isin(['tree', 'rock'])]\n",
    "\n",
    "tags_df = pd.merge(tags_df, points_df[['osm_id', 'geometry']], on='osm_id')"
   ]
  },
  {
   "cell_type": "code",
   "execution_count": 14,
   "id": "proprietary-gentleman",
   "metadata": {},
   "outputs": [],
   "source": [
    "import libgeohash as gh \n",
    "\n",
    "def encode(v):\n",
    "    return gh.encode(*list(map(float, v[7:-1].split()))[::-1])\n",
    "\n",
    "tags_df['geohash'] = tags_df.geometry.progress_apply(encode)"
   ]
  },
  {
   "cell_type": "code",
   "execution_count": 15,
   "id": "appropriate-investigator",
   "metadata": {},
   "outputs": [
    {
     "name": "stderr",
     "output_type": "stream",
     "text": [
      "                                                            \r"
     ]
    }
   ],
   "source": [
    "import shapely.wkt\n",
    "tags_df['geometry'] = tags_df.geometry.progress_apply(shapely.wkt.loads)\n",
    "\n",
    "tags_df = gpd.GeoDataFrame(tags_df, geometry='geometry', crs=4326)"
   ]
  },
  {
   "cell_type": "code",
   "execution_count": 38,
   "id": "fitted-issue",
   "metadata": {},
   "outputs": [
    {
     "data": {
      "text/plain": [
       "16"
      ]
     },
     "execution_count": 38,
     "metadata": {},
     "output_type": "execute_result"
    }
   ],
   "source": [
    "len([ x for x in [ np.sum([int(e) for e in list(sorted(bin(i)[2:]))]) for i in range(32)] if x >=3])"
   ]
  },
  {
   "cell_type": "code",
   "execution_count": 24,
   "id": "boolean-vatican",
   "metadata": {},
   "outputs": [
    {
     "data": {
      "text/html": [
       "<div>\n",
       "<style scoped>\n",
       "    .dataframe tbody tr th:only-of-type {\n",
       "        vertical-align: middle;\n",
       "    }\n",
       "\n",
       "    .dataframe tbody tr th {\n",
       "        vertical-align: top;\n",
       "    }\n",
       "\n",
       "    .dataframe thead th {\n",
       "        text-align: right;\n",
       "    }\n",
       "</style>\n",
       "<table border=\"1\" class=\"dataframe\">\n",
       "  <thead>\n",
       "    <tr style=\"text-align: right;\">\n",
       "      <th></th>\n",
       "      <th>csafp</th>\n",
       "      <th>cbsafp</th>\n",
       "      <th>geoid</th>\n",
       "      <th>name</th>\n",
       "      <th>namelsad</th>\n",
       "      <th>lsad</th>\n",
       "      <th>memi</th>\n",
       "      <th>mtfcc</th>\n",
       "      <th>aland</th>\n",
       "      <th>awater</th>\n",
       "      <th>intptlat</th>\n",
       "      <th>intptlon</th>\n",
       "      <th>geometry</th>\n",
       "    </tr>\n",
       "  </thead>\n",
       "  <tbody>\n",
       "    <tr>\n",
       "      <th>0</th>\n",
       "      <td>122</td>\n",
       "      <td>12020</td>\n",
       "      <td>31000US12020</td>\n",
       "      <td>Athens-Clarke County, GA</td>\n",
       "      <td>Athens-Clarke County, GA Metro Area</td>\n",
       "      <td>M1</td>\n",
       "      <td>1</td>\n",
       "      <td>G3110</td>\n",
       "      <td>2654607902</td>\n",
       "      <td>26109459</td>\n",
       "      <td>+33.9439840</td>\n",
       "      <td>-083.2138965</td>\n",
       "      <td>POLYGON ((-83.53739 33.96591, -83.53184 33.968...</td>\n",
       "    </tr>\n",
       "    <tr>\n",
       "      <th>1</th>\n",
       "      <td>122</td>\n",
       "      <td>12060</td>\n",
       "      <td>31000US12060</td>\n",
       "      <td>Atlanta-Sandy Springs-Alpharetta, GA</td>\n",
       "      <td>Atlanta-Sandy Springs-Alpharetta, GA Metro Area</td>\n",
       "      <td>M1</td>\n",
       "      <td>1</td>\n",
       "      <td>G3110</td>\n",
       "      <td>22495780629</td>\n",
       "      <td>386874693</td>\n",
       "      <td>+33.6937280</td>\n",
       "      <td>-084.3999113</td>\n",
       "      <td>POLYGON ((-85.33823 33.65312, -85.33842 33.654...</td>\n",
       "    </tr>\n",
       "    <tr>\n",
       "      <th>2</th>\n",
       "      <td>428</td>\n",
       "      <td>12100</td>\n",
       "      <td>31000US12100</td>\n",
       "      <td>Atlantic City-Hammonton, NJ</td>\n",
       "      <td>Atlantic City-Hammonton, NJ Metro Area</td>\n",
       "      <td>M1</td>\n",
       "      <td>1</td>\n",
       "      <td>G3110</td>\n",
       "      <td>1438774368</td>\n",
       "      <td>301270979</td>\n",
       "      <td>+39.4693555</td>\n",
       "      <td>-074.6337591</td>\n",
       "      <td>POLYGON ((-74.85675 39.42076, -74.85670 39.420...</td>\n",
       "    </tr>\n",
       "    <tr>\n",
       "      <th>3</th>\n",
       "      <td>426</td>\n",
       "      <td>12120</td>\n",
       "      <td>31000US12120</td>\n",
       "      <td>Atmore, AL</td>\n",
       "      <td>Atmore, AL Micro Area</td>\n",
       "      <td>M2</td>\n",
       "      <td>2</td>\n",
       "      <td>G3110</td>\n",
       "      <td>2448595161</td>\n",
       "      <td>20024887</td>\n",
       "      <td>+31.1222867</td>\n",
       "      <td>-087.1684097</td>\n",
       "      <td>POLYGON ((-87.61542 31.04100, -87.61541 31.041...</td>\n",
       "    </tr>\n",
       "    <tr>\n",
       "      <th>4</th>\n",
       "      <td>258</td>\n",
       "      <td>12140</td>\n",
       "      <td>31000US12140</td>\n",
       "      <td>Auburn, IN</td>\n",
       "      <td>Auburn, IN Micro Area</td>\n",
       "      <td>M2</td>\n",
       "      <td>2</td>\n",
       "      <td>G3110</td>\n",
       "      <td>939731962</td>\n",
       "      <td>2657419</td>\n",
       "      <td>+41.3967596</td>\n",
       "      <td>-085.0026969</td>\n",
       "      <td>POLYGON ((-85.19295 41.38001, -85.19296 41.381...</td>\n",
       "    </tr>\n",
       "  </tbody>\n",
       "</table>\n",
       "</div>"
      ],
      "text/plain": [
       "  csafp cbsafp         geoid                                  name  \\\n",
       "0   122  12020  31000US12020              Athens-Clarke County, GA   \n",
       "1   122  12060  31000US12060  Atlanta-Sandy Springs-Alpharetta, GA   \n",
       "2   428  12100  31000US12100           Atlantic City-Hammonton, NJ   \n",
       "3   426  12120  31000US12120                            Atmore, AL   \n",
       "4   258  12140  31000US12140                            Auburn, IN   \n",
       "\n",
       "                                          namelsad lsad memi  mtfcc  \\\n",
       "0              Athens-Clarke County, GA Metro Area   M1    1  G3110   \n",
       "1  Atlanta-Sandy Springs-Alpharetta, GA Metro Area   M1    1  G3110   \n",
       "2           Atlantic City-Hammonton, NJ Metro Area   M1    1  G3110   \n",
       "3                            Atmore, AL Micro Area   M2    2  G3110   \n",
       "4                            Auburn, IN Micro Area   M2    2  G3110   \n",
       "\n",
       "         aland     awater     intptlat      intptlon  \\\n",
       "0   2654607902   26109459  +33.9439840  -083.2138965   \n",
       "1  22495780629  386874693  +33.6937280  -084.3999113   \n",
       "2   1438774368  301270979  +39.4693555  -074.6337591   \n",
       "3   2448595161   20024887  +31.1222867  -087.1684097   \n",
       "4    939731962    2657419  +41.3967596  -085.0026969   \n",
       "\n",
       "                                            geometry  \n",
       "0  POLYGON ((-83.53739 33.96591, -83.53184 33.968...  \n",
       "1  POLYGON ((-85.33823 33.65312, -85.33842 33.654...  \n",
       "2  POLYGON ((-74.85675 39.42076, -74.85670 39.420...  \n",
       "3  POLYGON ((-87.61542 31.04100, -87.61541 31.041...  \n",
       "4  POLYGON ((-85.19295 41.38001, -85.19296 41.381...  "
      ]
     },
     "execution_count": 24,
     "metadata": {},
     "output_type": "execute_result"
    }
   ],
   "source": [
    "cbsa.head()"
   ]
  },
  {
   "cell_type": "code",
   "execution_count": 25,
   "id": "eligible-detail",
   "metadata": {},
   "outputs": [
    {
     "name": "stdout",
     "output_type": "stream",
     "text": [
      "CPU times: user 5min 24s, sys: 3.06 s, total: 5min 27s\n",
      "Wall time: 5min 32s\n"
     ]
    }
   ],
   "source": [
    "cbsa = pkg.reference('cbsa').geoframe().to_crs(4326)\n",
    "%time t = gpd.sjoin(tags_df, cbsa[['geometry', 'geoid']])"
   ]
  },
  {
   "cell_type": "code",
   "execution_count": 26,
   "id": "informal-organ",
   "metadata": {},
   "outputs": [
    {
     "data": {
      "text/html": [
       "<div>\n",
       "<style scoped>\n",
       "    .dataframe tbody tr th:only-of-type {\n",
       "        vertical-align: middle;\n",
       "    }\n",
       "\n",
       "    .dataframe tbody tr th {\n",
       "        vertical-align: top;\n",
       "    }\n",
       "\n",
       "    .dataframe thead th {\n",
       "        text-align: right;\n",
       "    }\n",
       "</style>\n",
       "<table border=\"1\" class=\"dataframe\">\n",
       "  <thead>\n",
       "    <tr style=\"text-align: right;\">\n",
       "      <th></th>\n",
       "      <th>osm_id</th>\n",
       "      <th>amenity</th>\n",
       "      <th>tourism</th>\n",
       "      <th>shop</th>\n",
       "      <th>leisure</th>\n",
       "      <th>natural</th>\n",
       "      <th>parking</th>\n",
       "      <th>geometry</th>\n",
       "      <th>geohash</th>\n",
       "      <th>index_right</th>\n",
       "      <th>geoid</th>\n",
       "    </tr>\n",
       "  </thead>\n",
       "  <tbody>\n",
       "    <tr>\n",
       "      <th>0</th>\n",
       "      <td>699684</td>\n",
       "      <td>library</td>\n",
       "      <td>None</td>\n",
       "      <td>None</td>\n",
       "      <td>None</td>\n",
       "      <td>None</td>\n",
       "      <td>None</td>\n",
       "      <td>POINT (-87.95731 42.97439)</td>\n",
       "      <td>dp9kqrprynsu</td>\n",
       "      <td>567</td>\n",
       "      <td>31000US33340</td>\n",
       "    </tr>\n",
       "    <tr>\n",
       "      <th>3262</th>\n",
       "      <td>197983794</td>\n",
       "      <td>parking</td>\n",
       "      <td>None</td>\n",
       "      <td>None</td>\n",
       "      <td>None</td>\n",
       "      <td>None</td>\n",
       "      <td>None</td>\n",
       "      <td>POINT (-87.92220 43.10359)</td>\n",
       "      <td>dp9mpqc08763</td>\n",
       "      <td>567</td>\n",
       "      <td>31000US33340</td>\n",
       "    </tr>\n",
       "    <tr>\n",
       "      <th>3490</th>\n",
       "      <td>213316134</td>\n",
       "      <td>None</td>\n",
       "      <td>None</td>\n",
       "      <td>None</td>\n",
       "      <td>slipway</td>\n",
       "      <td>None</td>\n",
       "      <td>None</td>\n",
       "      <td>POINT (-88.25944 43.40234)</td>\n",
       "      <td>dp9nzt5kvzpj</td>\n",
       "      <td>567</td>\n",
       "      <td>31000US33340</td>\n",
       "    </tr>\n",
       "    <tr>\n",
       "      <th>3711</th>\n",
       "      <td>232879597</td>\n",
       "      <td>parking</td>\n",
       "      <td>None</td>\n",
       "      <td>None</td>\n",
       "      <td>None</td>\n",
       "      <td>None</td>\n",
       "      <td>None</td>\n",
       "      <td>POINT (-88.11566 43.02689)</td>\n",
       "      <td>dp9kfbu1u3eh</td>\n",
       "      <td>567</td>\n",
       "      <td>31000US33340</td>\n",
       "    </tr>\n",
       "    <tr>\n",
       "      <th>3723</th>\n",
       "      <td>233336407</td>\n",
       "      <td>None</td>\n",
       "      <td>None</td>\n",
       "      <td>None</td>\n",
       "      <td>slipway</td>\n",
       "      <td>None</td>\n",
       "      <td>None</td>\n",
       "      <td>POINT (-88.27085 43.07635)</td>\n",
       "      <td>dp9jp3g1ujh9</td>\n",
       "      <td>567</td>\n",
       "      <td>31000US33340</td>\n",
       "    </tr>\n",
       "  </tbody>\n",
       "</table>\n",
       "</div>"
      ],
      "text/plain": [
       "         osm_id  amenity tourism  shop  leisure natural parking  \\\n",
       "0        699684  library    None  None     None    None    None   \n",
       "3262  197983794  parking    None  None     None    None    None   \n",
       "3490  213316134     None    None  None  slipway    None    None   \n",
       "3711  232879597  parking    None  None     None    None    None   \n",
       "3723  233336407     None    None  None  slipway    None    None   \n",
       "\n",
       "                        geometry       geohash  index_right         geoid  \n",
       "0     POINT (-87.95731 42.97439)  dp9kqrprynsu          567  31000US33340  \n",
       "3262  POINT (-87.92220 43.10359)  dp9mpqc08763          567  31000US33340  \n",
       "3490  POINT (-88.25944 43.40234)  dp9nzt5kvzpj          567  31000US33340  \n",
       "3711  POINT (-88.11566 43.02689)  dp9kfbu1u3eh          567  31000US33340  \n",
       "3723  POINT (-88.27085 43.07635)  dp9jp3g1ujh9          567  31000US33340  "
      ]
     },
     "execution_count": 26,
     "metadata": {},
     "output_type": "execute_result"
    }
   ],
   "source": [
    "t.head()"
   ]
  },
  {
   "cell_type": "code",
   "execution_count": 45,
   "id": "occasional-satellite",
   "metadata": {},
   "outputs": [
    {
     "data": {
      "text/plain": [
       "(38.2, 19)"
      ]
     },
     "execution_count": 45,
     "metadata": {},
     "output_type": "execute_result"
    }
   ],
   "source": [
    "gh.dimensions('dp9kqrprynsu'[:8])"
   ]
  },
  {
   "cell_type": "code",
   "execution_count": 58,
   "id": "healthy-telescope",
   "metadata": {},
   "outputs": [
    {
     "name": "stderr",
     "output_type": "stream",
     "text": [
      "INFO:pylib.points:Make tags dataframe\n",
      "INFO:pylib.points:Extract class Columns\n",
      "INFO:pylib.points:Make geotags dataframe\n"
     ]
    },
    {
     "name": "stdout",
     "output_type": "stream",
     "text": [
      "CPU times: user 7min 8s, sys: 7.76 s, total: 7min 15s\n",
      "Wall time: 7min 21s\n"
     ]
    }
   ],
   "source": [
    "%time pylib.build_points(pkg)"
   ]
  },
  {
   "cell_type": "code",
   "execution_count": 59,
   "id": "integrated-alcohol",
   "metadata": {},
   "outputs": [
    {
     "name": "stdout",
     "output_type": "stream",
     "text": [
      "CPU times: user 4min 23s, sys: 5 s, total: 4min 28s\n",
      "Wall time: 4min 32s\n"
     ]
    }
   ],
   "source": [
    "%time pt  = pkg.resource('point_tags').geoframe()"
   ]
  },
  {
   "cell_type": "code",
   "execution_count": 57,
   "id": "blank-reduction",
   "metadata": {},
   "outputs": [
    {
     "data": {
      "text/html": [
       "<div>\n",
       "<style scoped>\n",
       "    .dataframe tbody tr th:only-of-type {\n",
       "        vertical-align: middle;\n",
       "    }\n",
       "\n",
       "    .dataframe tbody tr th {\n",
       "        vertical-align: top;\n",
       "    }\n",
       "\n",
       "    .dataframe thead th {\n",
       "        text-align: right;\n",
       "    }\n",
       "</style>\n",
       "<table border=\"1\" class=\"dataframe\">\n",
       "  <thead>\n",
       "    <tr style=\"text-align: right;\">\n",
       "      <th></th>\n",
       "      <th>geohash</th>\n",
       "      <th>amenity</th>\n",
       "      <th>tourism</th>\n",
       "      <th>shop</th>\n",
       "      <th>leisure</th>\n",
       "      <th>natural</th>\n",
       "      <th>parking</th>\n",
       "      <th>bank</th>\n",
       "      <th>bar</th>\n",
       "      <th>bicycle_parking</th>\n",
       "      <th>...</th>\n",
       "      <th>hotel</th>\n",
       "      <th>laundry</th>\n",
       "      <th>park</th>\n",
       "      <th>parking_space</th>\n",
       "      <th>playground</th>\n",
       "      <th>restaurant</th>\n",
       "      <th>supermarket</th>\n",
       "      <th>geometry</th>\n",
       "      <th>index_right</th>\n",
       "      <th>geoid</th>\n",
       "    </tr>\n",
       "  </thead>\n",
       "  <tbody>\n",
       "    <tr>\n",
       "      <th>0</th>\n",
       "      <td>87vg4y02</td>\n",
       "      <td>0</td>\n",
       "      <td>0</td>\n",
       "      <td>0</td>\n",
       "      <td>0</td>\n",
       "      <td>1</td>\n",
       "      <td>0</td>\n",
       "      <td>0</td>\n",
       "      <td>0</td>\n",
       "      <td>0</td>\n",
       "      <td>...</td>\n",
       "      <td>0</td>\n",
       "      <td>0</td>\n",
       "      <td>0</td>\n",
       "      <td>0</td>\n",
       "      <td>0</td>\n",
       "      <td>0</td>\n",
       "      <td>0</td>\n",
       "      <td>POINT (-160.54270 21.65414)</td>\n",
       "      <td>446</td>\n",
       "      <td>31000US28180</td>\n",
       "    </tr>\n",
       "    <tr>\n",
       "      <th>1</th>\n",
       "      <td>87vg4ycq</td>\n",
       "      <td>0</td>\n",
       "      <td>0</td>\n",
       "      <td>0</td>\n",
       "      <td>0</td>\n",
       "      <td>1</td>\n",
       "      <td>0</td>\n",
       "      <td>0</td>\n",
       "      <td>0</td>\n",
       "      <td>0</td>\n",
       "      <td>...</td>\n",
       "      <td>0</td>\n",
       "      <td>0</td>\n",
       "      <td>0</td>\n",
       "      <td>0</td>\n",
       "      <td>0</td>\n",
       "      <td>0</td>\n",
       "      <td>0</td>\n",
       "      <td>POINT (-160.54132 21.65929)</td>\n",
       "      <td>446</td>\n",
       "      <td>31000US28180</td>\n",
       "    </tr>\n",
       "    <tr>\n",
       "      <th>2</th>\n",
       "      <td>87vg4z47</td>\n",
       "      <td>0</td>\n",
       "      <td>0</td>\n",
       "      <td>0</td>\n",
       "      <td>0</td>\n",
       "      <td>1</td>\n",
       "      <td>0</td>\n",
       "      <td>0</td>\n",
       "      <td>0</td>\n",
       "      <td>0</td>\n",
       "      <td>...</td>\n",
       "      <td>0</td>\n",
       "      <td>0</td>\n",
       "      <td>0</td>\n",
       "      <td>0</td>\n",
       "      <td>0</td>\n",
       "      <td>0</td>\n",
       "      <td>0</td>\n",
       "      <td>POINT (-160.53995 21.66015)</td>\n",
       "      <td>446</td>\n",
       "      <td>31000US28180</td>\n",
       "    </tr>\n",
       "    <tr>\n",
       "      <th>3</th>\n",
       "      <td>87y5cz1h</td>\n",
       "      <td>0</td>\n",
       "      <td>0</td>\n",
       "      <td>0</td>\n",
       "      <td>0</td>\n",
       "      <td>1</td>\n",
       "      <td>0</td>\n",
       "      <td>0</td>\n",
       "      <td>0</td>\n",
       "      <td>0</td>\n",
       "      <td>...</td>\n",
       "      <td>0</td>\n",
       "      <td>0</td>\n",
       "      <td>0</td>\n",
       "      <td>0</td>\n",
       "      <td>0</td>\n",
       "      <td>0</td>\n",
       "      <td>0</td>\n",
       "      <td>POINT (-160.23405 21.79215)</td>\n",
       "      <td>446</td>\n",
       "      <td>31000US28180</td>\n",
       "    </tr>\n",
       "    <tr>\n",
       "      <th>4</th>\n",
       "      <td>87y5fkz8</td>\n",
       "      <td>0</td>\n",
       "      <td>0</td>\n",
       "      <td>0</td>\n",
       "      <td>0</td>\n",
       "      <td>1</td>\n",
       "      <td>0</td>\n",
       "      <td>0</td>\n",
       "      <td>0</td>\n",
       "      <td>0</td>\n",
       "      <td>...</td>\n",
       "      <td>0</td>\n",
       "      <td>0</td>\n",
       "      <td>0</td>\n",
       "      <td>0</td>\n",
       "      <td>0</td>\n",
       "      <td>0</td>\n",
       "      <td>0</td>\n",
       "      <td>POINT (-160.20315 21.77911)</td>\n",
       "      <td>446</td>\n",
       "      <td>31000US28180</td>\n",
       "    </tr>\n",
       "  </tbody>\n",
       "</table>\n",
       "<p>5 rows × 27 columns</p>\n",
       "</div>"
      ],
      "text/plain": [
       "    geohash  amenity  tourism  shop  leisure  natural  parking  bank  bar  \\\n",
       "0  87vg4y02        0        0     0        0        1        0     0    0   \n",
       "1  87vg4ycq        0        0     0        0        1        0     0    0   \n",
       "2  87vg4z47        0        0     0        0        1        0     0    0   \n",
       "3  87y5cz1h        0        0     0        0        1        0     0    0   \n",
       "4  87y5fkz8        0        0     0        0        1        0     0    0   \n",
       "\n",
       "   bicycle_parking  ...  hotel  laundry  park  parking_space  playground  \\\n",
       "0                0  ...      0        0     0              0           0   \n",
       "1                0  ...      0        0     0              0           0   \n",
       "2                0  ...      0        0     0              0           0   \n",
       "3                0  ...      0        0     0              0           0   \n",
       "4                0  ...      0        0     0              0           0   \n",
       "\n",
       "   restaurant  supermarket                     geometry  index_right  \\\n",
       "0           0            0  POINT (-160.54270 21.65414)          446   \n",
       "1           0            0  POINT (-160.54132 21.65929)          446   \n",
       "2           0            0  POINT (-160.53995 21.66015)          446   \n",
       "3           0            0  POINT (-160.23405 21.79215)          446   \n",
       "4           0            0  POINT (-160.20315 21.77911)          446   \n",
       "\n",
       "          geoid  \n",
       "0  31000US28180  \n",
       "1  31000US28180  \n",
       "2  31000US28180  \n",
       "3  31000US28180  \n",
       "4  31000US28180  \n",
       "\n",
       "[5 rows x 27 columns]"
      ]
     },
     "execution_count": 57,
     "metadata": {},
     "output_type": "execute_result"
    }
   ],
   "source": [
    "pt.head()"
   ]
  },
  {
   "cell_type": "code",
   "execution_count": 60,
   "id": "comparative-product",
   "metadata": {},
   "outputs": [
    {
     "data": {
      "text/plain": [
       "2025916"
      ]
     },
     "execution_count": 60,
     "metadata": {},
     "output_type": "execute_result"
    }
   ],
   "source": [
    "len(pt)"
   ]
  },
  {
   "cell_type": "code",
   "execution_count": 74,
   "id": "hydraulic-steering",
   "metadata": {},
   "outputs": [
    {
     "data": {
      "text/plain": [
       "(slice(-117.611081, -116.08094, None),\n",
       " slice(32.528832, 33.505024999999996, None))"
      ]
     },
     "execution_count": 74,
     "metadata": {},
     "output_type": "execute_result"
    }
   ],
   "source": [
    "from demosearch import FileCache\n",
    "from demosearch.search import ftsearch\n",
    "import utm\n",
    "from collections import defaultdict\n",
    "\n",
    "fc = FileCache('/Volumes/SSD_Extern/radius/')\n",
    "def ftbb(s):\n",
    "    bb = ftsearch(fc, s)[0].bb\n",
    "    return (slice(bb[0],bb[2]), slice(bb[1],bb[3]))\n",
    "\n",
    "ftbb('San Diego')\n"
   ]
  },
  {
   "cell_type": "code",
   "execution_count": 111,
   "id": "incomplete-profit",
   "metadata": {},
   "outputs": [],
   "source": [
    "\n",
    "\n",
    "r=ftsearch(fc, 'San Diego')[0]\n",
    "sd = pt[pt.geoid==r.geoid]\n",
    "\n"
   ]
  },
  {
   "cell_type": "code",
   "execution_count": 174,
   "id": "tribal-correlation",
   "metadata": {},
   "outputs": [],
   "source": [
    "sd.to_csv('business_points.csv')"
   ]
  },
  {
   "cell_type": "code",
   "execution_count": 189,
   "id": "solar-european",
   "metadata": {},
   "outputs": [],
   "source": [
    "\n",
    "\n",
    "def link_elements(a_ids, b_ids):\n",
    "    \n",
    "    cluster_n  = 0\n",
    "    clusters = {}\n",
    "    \n",
    "    def find_cluster(clusters, a,b):\n",
    "        if a in clusters:\n",
    "            return clusters[a]\n",
    "        if b in clusters:\n",
    "            return clusters[b]\n",
    "        return None\n",
    "    \n",
    "    \n",
    "    for a, b in  zip(a_ids, b_ids):\n",
    "        a = int(a)\n",
    "        b = int(b)\n",
    "        c = find_cluster(clusters, a,b)\n",
    "\n",
    "        if c is None:\n",
    "            c  = cluster_n\n",
    "            cluster_n += 1\n",
    "\n",
    "        clusters[a] = c\n",
    "        clusters[b] = c\n",
    "        \n",
    "    return clusters\n",
    "        \n",
    "def rebuild_geo(clusters, df):\n",
    "    cdf = pd.DataFrame(clusters.items(), columns=['index', 'cluster_n']).set_index('index')\n",
    "\n",
    "    g = gpd.GeoDataFrame({'geometry': df.join(cdf).groupby('cluster_n').apply(lambda g: g.unary_union)},\n",
    "                         crs = sdu.crs)\n",
    "    \n",
    "    return g\n",
    "    \n",
    "def merge_points(df):\n",
    "    t = gpd.sjoin(df, df, op='intersects')  \n",
    "    clusters = link_elements(t.index, t.index_right)\n",
    "    g = rebuild_geo(clusters, t)\n",
    "    return g\n",
    "    "
   ]
  },
  {
   "cell_type": "code",
   "execution_count": null,
   "id": "hungry-arrival",
   "metadata": {},
   "outputs": [],
   "source": [
    "%%time \n",
    "\n",
    "sdu = sd.to_crs(32611)\n",
    "\n",
    "sdu['geometry'] = sdu.buffer(50)\n",
    "\n",
    "g1 = merge_points(sdu)\n",
    "\n",
    "def to_gdf(s):\n",
    "    return gpd.GeoDataFrame({'geometry':s}, crs=sdu.crs)\n",
    "\n",
    "g = to_gdf(g1.buffer(30))\n",
    "g = merge_points(g)\n",
    "\n",
    "g = to_gdf(g.buffer(25))\n",
    "g = merge_points(g)\n",
    "\n",
    "g.to_csv('business_clusters.csv')\n"
   ]
  },
  {
   "cell_type": "code",
   "execution_count": 203,
   "id": "military-morocco",
   "metadata": {},
   "outputs": [
    {
     "data": {
      "text/plain": [
       "3859"
      ]
     },
     "execution_count": 203,
     "metadata": {},
     "output_type": "execute_result"
    }
   ],
   "source": [
    "len(g)"
   ]
  },
  {
   "cell_type": "code",
   "execution_count": 202,
   "id": "industrial-purchase",
   "metadata": {},
   "outputs": [
    {
     "data": {
      "text/html": [
       "<div>\n",
       "<style scoped>\n",
       "    .dataframe tbody tr th:only-of-type {\n",
       "        vertical-align: middle;\n",
       "    }\n",
       "\n",
       "    .dataframe tbody tr th {\n",
       "        vertical-align: top;\n",
       "    }\n",
       "\n",
       "    .dataframe thead th {\n",
       "        text-align: right;\n",
       "    }\n",
       "</style>\n",
       "<table border=\"1\" class=\"dataframe\">\n",
       "  <thead>\n",
       "    <tr style=\"text-align: right;\">\n",
       "      <th></th>\n",
       "      <th>x</th>\n",
       "      <th>y</th>\n",
       "    </tr>\n",
       "  </thead>\n",
       "  <tbody>\n",
       "    <tr>\n",
       "      <th>95615</th>\n",
       "      <td>488545.437941</td>\n",
       "      <td>3.599696e+06</td>\n",
       "    </tr>\n",
       "    <tr>\n",
       "      <th>95616</th>\n",
       "      <td>488577.677089</td>\n",
       "      <td>3.599696e+06</td>\n",
       "    </tr>\n",
       "    <tr>\n",
       "      <th>95633</th>\n",
       "      <td>488000.706808</td>\n",
       "      <td>3.602475e+06</td>\n",
       "    </tr>\n",
       "    <tr>\n",
       "      <th>95634</th>\n",
       "      <td>488483.655447</td>\n",
       "      <td>3.602036e+06</td>\n",
       "    </tr>\n",
       "    <tr>\n",
       "      <th>95691</th>\n",
       "      <td>491350.539407</td>\n",
       "      <td>3.600035e+06</td>\n",
       "    </tr>\n",
       "    <tr>\n",
       "      <th>...</th>\n",
       "      <td>...</td>\n",
       "      <td>...</td>\n",
       "    </tr>\n",
       "    <tr>\n",
       "      <th>118837</th>\n",
       "      <td>551193.300903</td>\n",
       "      <td>3.697127e+06</td>\n",
       "    </tr>\n",
       "    <tr>\n",
       "      <th>118838</th>\n",
       "      <td>554514.197983</td>\n",
       "      <td>3.696974e+06</td>\n",
       "    </tr>\n",
       "    <tr>\n",
       "      <th>118839</th>\n",
       "      <td>556932.396062</td>\n",
       "      <td>3.698339e+06</td>\n",
       "    </tr>\n",
       "    <tr>\n",
       "      <th>119248</th>\n",
       "      <td>559771.039525</td>\n",
       "      <td>3.698698e+06</td>\n",
       "    </tr>\n",
       "    <tr>\n",
       "      <th>119253</th>\n",
       "      <td>583860.258765</td>\n",
       "      <td>3.696213e+06</td>\n",
       "    </tr>\n",
       "  </tbody>\n",
       "</table>\n",
       "<p>12587 rows × 2 columns</p>\n",
       "</div>"
      ],
      "text/plain": [
       "                    x             y\n",
       "95615   488545.437941  3.599696e+06\n",
       "95616   488577.677089  3.599696e+06\n",
       "95633   488000.706808  3.602475e+06\n",
       "95634   488483.655447  3.602036e+06\n",
       "95691   491350.539407  3.600035e+06\n",
       "...               ...           ...\n",
       "118837  551193.300903  3.697127e+06\n",
       "118838  554514.197983  3.696974e+06\n",
       "118839  556932.396062  3.698339e+06\n",
       "119248  559771.039525  3.698698e+06\n",
       "119253  583860.258765  3.696213e+06\n",
       "\n",
       "[12587 rows x 2 columns]"
      ]
     },
     "execution_count": 202,
     "metadata": {},
     "output_type": "execute_result"
    }
   ],
   "source": [
    "\n",
    "\n",
    "\n"
   ]
  },
  {
   "cell_type": "code",
   "execution_count": null,
   "id": "swiss-trader",
   "metadata": {},
   "outputs": [],
   "source": [
    "6"
   ]
  }
 ],
 "metadata": {
  "kernelspec": {
   "display_name": "Python 3",
   "language": "python",
   "name": "python3"
  },
  "language_info": {
   "codemirror_mode": {
    "name": "ipython",
    "version": 3
   },
   "file_extension": ".py",
   "mimetype": "text/x-python",
   "name": "python",
   "nbconvert_exporter": "python",
   "pygments_lexer": "ipython3",
   "version": "3.7.9"
  },
  "toc-autonumbering": false,
  "toc-showcode": false,
  "toc-showmarkdowntxt": false
 },
 "nbformat": 4,
 "nbformat_minor": 5
}
