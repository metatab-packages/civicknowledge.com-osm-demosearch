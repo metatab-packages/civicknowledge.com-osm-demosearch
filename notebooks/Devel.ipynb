{
 "cells": [
  {
   "cell_type": "code",
   "execution_count": 1,
   "id": "binary-baseball",
   "metadata": {},
   "outputs": [
    {
     "data": {
      "text/html": [
       "<h1>Open Street Map Extract for Demographic Search</h1>\n",
       "<p><code>civicknowledge.com-osm-demosearch-1.1.2</code> Last Update: 2021-02-03T01:33:47</p>\n",
       "<p>__</p>\n",
       "<h2>Contacts</h2>\n",
       "<ul>\n",
       "<li><strong>Wrangler</strong> <a href=\"mailto:eric@civicknowledge.com\">Eric Busboom</a>, <a href=\"http://civicknowledge.com\">Civic Knowledge</a></li>\n",
       "</ul>\n",
       "<h2>Resources</h2>\n",
       "<ul>\n",
       "<li><strong> <a href=\"data/geohash_tags.csv\">geohash_tags</a></strong>. Points converted to counts of tags per geohash</li>\n",
       "<li><strong> <a href=\"data/residential_roads.csv\">residential_roads</a></strong>. Residential roads per 4 digit geohash</li>\n",
       "<li><strong> <a href=\"data/nonres_roads.csv\">nonres_roads</a></strong>. Non residential roads per 4 digit geohash</li>\n",
       "</ul>\n",
       "<h2>References</h2>\n",
       "<ul><li> <strong>us_geohashes</string>, <em>metapack+http://library.metatab.org/civicknowledge.com-geohash-us.csv#us_geohashes</em>. All 4 digit geohases in the continential US</li><li> <strong><a href=\"https://download.geofabrik.de/north-america-latest.osm.pbf\">north-america-latest</a></strong>. OSM North America extract</li><li> <strong>points</string>, <em>data/csv/points.csv</em>. Points from the OSM file</li><li> <strong>lines</string>, <em>data/csv/lines.csv</em>. Lines from the OSM file</li><li> <strong>multipolygons</string>, <em>data/csv/multipolygons.csv</em>. Polygons from the OSM file</li><li> <strong>multilinestrings</string>, <em>data/csv/multilinestrings.csv</em>. Lines from the OSM file</li><li> <strong>other_relations</string>, <em>data/csv/other_relations.csv</em>. Other geo data from the OSM file</li><ul>"
      ],
      "text/plain": [
       "# Open Street Map Extract for Demographic Search\n",
       "`civicknowledge.com-osm-demosearch-1.1.2` Last Update: 2021-02-03T01:33:47\n",
       "\n",
       "__\n",
       "\n",
       "\n",
       "\n",
       "\n",
       " \n",
       "\n",
       "## Contacts\n",
       "\n",
       "* **Wrangler** [Eric Busboom](mailto:eric@civicknowledge.com), [Civic Knowledge](http://civicknowledge.com)\n",
       "\n",
       "## Resources\n",
       "\n",
       "* ** [geohash_tags](data/geohash_tags.csv)**. Points converted to counts of tags per geohash\n",
       "* ** [residential_roads](data/residential_roads.csv)**. Residential roads per 4 digit geohash\n",
       "* ** [nonres_roads](data/nonres_roads.csv)**. Non residential roads per 4 digit geohash\n",
       "\n",
       "## References\n",
       "<ul><li> <strong>us_geohashes</string>, <em>metapack+http://library.metatab.org/civicknowledge.com-geohash-us.csv#us_geohashes</em>. All 4 digit geohases in the continential US</li><li> <strong><a href=\"https://download.geofabrik.de/north-america-latest.osm.pbf\">north-america-latest</a></strong>. OSM North America extract</li><li> <strong>points</string>, <em>data/csv/points.csv</em>. Points from the OSM file</li><li> <strong>lines</string>, <em>data/csv/lines.csv</em>. Lines from the OSM file</li><li> <strong>multipolygons</string>, <em>data/csv/multipolygons.csv</em>. Polygons from the OSM file</li><li> <strong>multilinestrings</string>, <em>data/csv/multilinestrings.csv</em>. Lines from the OSM file</li><li> <strong>other_relations</string>, <em>data/csv/other_relations.csv</em>. Other geo data from the OSM file</li><ul>\n"
      ]
     },
     "execution_count": 1,
     "metadata": {},
     "output_type": "execute_result"
    }
   ],
   "source": [
    "%load_ext autoreload\n",
    "%autoreload 2\n",
    "    \n",
    "from pathlib import Path\n",
    "import metapack as mp\n",
    "import geopandas as gpd\n",
    "import pandas as pd\n",
    "from auto_tqdm import tqdm \n",
    "\n",
    "doc = mp.jupyter.open_source_package()\n",
    "doc.set_sys_path()\n",
    "import pylib\n",
    "\n",
    "ea_epsg = 2163 #US Equal Area projection\n",
    "\n",
    "import logging\n",
    "logging.basicConfig()\n",
    "\n",
    "from pylib import lines_logger, points_logger\n",
    "lines_logger.setLevel(logging.DEBUG)\n",
    "points_logger.setLevel(logging.DEBUG)\n",
    "\n",
    "pkg_root = Path(doc.path).parent\n",
    "pkg = mp.open_package(pkg_root)\n",
    "pkg"
   ]
  },
  {
   "cell_type": "code",
   "execution_count": 15,
   "id": "informational-mexico",
   "metadata": {},
   "outputs": [
    {
     "name": "stderr",
     "output_type": "stream",
     "text": [
      "INFO:pylib.lines:Split the input file\n",
      "INFO:pylib.lines:   5328 splits keys\n",
      "INFO:pylib.lines:Run the overlay process\n"
     ]
    },
    {
     "data": {
      "application/vnd.jupyter.widget-view+json": {
       "model_id": "",
       "version_major": 2,
       "version_minor": 0
      },
      "text/plain": [
       "Overlay Geohash:   0%|          | 0/5328 [00:00<?, ?it/s]"
      ]
     },
     "metadata": {},
     "output_type": "display_data"
    },
    {
     "name": "stderr",
     "output_type": "stream",
     "text": [
      "INFO:pylib.lines:Simplify lines\n",
      "INFO:pylib.lines:   43558 simplified keys\n",
      "INFO:pylib.lines:Write the roads files\n"
     ]
    },
    {
     "name": "stdout",
     "output_type": "stream",
     "text": [
      "   5300 recombine keys\n"
     ]
    }
   ],
   "source": [
    "\n",
    "pylib.build_lines(pkg)\n"
   ]
  },
  {
   "cell_type": "code",
   "execution_count": 11,
   "id": "ceramic-utility",
   "metadata": {},
   "outputs": [],
   "source": [
    "t = pkg.resource('nonres_roads').dataframe()"
   ]
  },
  {
   "cell_type": "code",
   "execution_count": 12,
   "id": "imported-gauge",
   "metadata": {},
   "outputs": [
    {
     "data": {
      "text/html": [
       "<div>\n",
       "<style scoped>\n",
       "    .dataframe tbody tr th:only-of-type {\n",
       "        vertical-align: middle;\n",
       "    }\n",
       "\n",
       "    .dataframe tbody tr th {\n",
       "        vertical-align: top;\n",
       "    }\n",
       "\n",
       "    .dataframe thead th {\n",
       "        text-align: right;\n",
       "    }\n",
       "</style>\n",
       "<table border=\"1\" class=\"dataframe\">\n",
       "  <thead>\n",
       "    <tr style=\"text-align: right;\">\n",
       "      <th></th>\n",
       "      <th>geohash</th>\n",
       "      <th>highway</th>\n",
       "      <th>geometry</th>\n",
       "    </tr>\n",
       "  </thead>\n",
       "  <tbody>\n",
       "    <tr>\n",
       "      <th>0</th>\n",
       "      <td>c287</td>\n",
       "      <td>2</td>\n",
       "      <td>LINESTRING (477089 5368078, 476883 5368125, 47...</td>\n",
       "    </tr>\n",
       "    <tr>\n",
       "      <th>1</th>\n",
       "      <td>c287</td>\n",
       "      <td>2</td>\n",
       "      <td>LINESTRING (477998 5367584, 477301 5368193)</td>\n",
       "    </tr>\n",
       "    <tr>\n",
       "      <th>2</th>\n",
       "      <td>c287</td>\n",
       "      <td>2</td>\n",
       "      <td>LINESTRING (472861 5365087, 472893 5365089)</td>\n",
       "    </tr>\n",
       "    <tr>\n",
       "      <th>3</th>\n",
       "      <td>c287</td>\n",
       "      <td>2</td>\n",
       "      <td>LINESTRING (473835 5372347, 473823 5372322)</td>\n",
       "    </tr>\n",
       "    <tr>\n",
       "      <th>4</th>\n",
       "      <td>c287</td>\n",
       "      <td>2</td>\n",
       "      <td>LINESTRING (471390 5370525, 471156 5369915)</td>\n",
       "    </tr>\n",
       "    <tr>\n",
       "      <th>...</th>\n",
       "      <td>...</td>\n",
       "      <td>...</td>\n",
       "      <td>...</td>\n",
       "    </tr>\n",
       "    <tr>\n",
       "      <th>2501664</th>\n",
       "      <td>dnky</td>\n",
       "      <td>t</td>\n",
       "      <td>LINESTRING (295020 4017025, 294985 4016769, 29...</td>\n",
       "    </tr>\n",
       "    <tr>\n",
       "      <th>2501665</th>\n",
       "      <td>dr5r</td>\n",
       "      <td>3</td>\n",
       "      <td>LINESTRING (593907 4513326, 593922 4513277)</td>\n",
       "    </tr>\n",
       "    <tr>\n",
       "      <th>2501666</th>\n",
       "      <td>dr5r</td>\n",
       "      <td>1</td>\n",
       "      <td>LINESTRING (591242 4495881, 591244 4495878)</td>\n",
       "    </tr>\n",
       "    <tr>\n",
       "      <th>2501667</th>\n",
       "      <td>dr5r</td>\n",
       "      <td>1</td>\n",
       "      <td>LINESTRING (590298 4496967, 590259 4497012)</td>\n",
       "    </tr>\n",
       "    <tr>\n",
       "      <th>2501668</th>\n",
       "      <td>dr10</td>\n",
       "      <td>1</td>\n",
       "      <td>LINESTRING (307777 4372893, 308185 4372738)</td>\n",
       "    </tr>\n",
       "  </tbody>\n",
       "</table>\n",
       "<p>2501669 rows × 3 columns</p>\n",
       "</div>"
      ],
      "text/plain": [
       "        geohash highway                                           geometry\n",
       "0          c287       2  LINESTRING (477089 5368078, 476883 5368125, 47...\n",
       "1          c287       2        LINESTRING (477998 5367584, 477301 5368193)\n",
       "2          c287       2        LINESTRING (472861 5365087, 472893 5365089)\n",
       "3          c287       2        LINESTRING (473835 5372347, 473823 5372322)\n",
       "4          c287       2        LINESTRING (471390 5370525, 471156 5369915)\n",
       "...         ...     ...                                                ...\n",
       "2501664    dnky       t  LINESTRING (295020 4017025, 294985 4016769, 29...\n",
       "2501665    dr5r       3        LINESTRING (593907 4513326, 593922 4513277)\n",
       "2501666    dr5r       1        LINESTRING (591242 4495881, 591244 4495878)\n",
       "2501667    dr5r       1        LINESTRING (590298 4496967, 590259 4497012)\n",
       "2501668    dr10       1        LINESTRING (307777 4372893, 308185 4372738)\n",
       "\n",
       "[2501669 rows x 3 columns]"
      ]
     },
     "execution_count": 12,
     "metadata": {},
     "output_type": "execute_result"
    }
   ],
   "source": [
    "t"
   ]
  },
  {
   "cell_type": "code",
   "execution_count": 14,
   "id": "powerful-chair",
   "metadata": {},
   "outputs": [
    {
     "name": "stderr",
     "output_type": "stream",
     "text": [
      "INFO:pylib.points:Make tags dataframe\n",
      "INFO:pylib.points:Extract class Columns\n",
      "INFO:pylib.points:Make geotags dataframe\n"
     ]
    }
   ],
   "source": [
    "pylib.build_points(pkg)"
   ]
  },
  {
   "cell_type": "code",
   "execution_count": null,
   "id": "obvious-tuesday",
   "metadata": {},
   "outputs": [],
   "source": []
  }
 ],
 "metadata": {
  "kernelspec": {
   "display_name": "Python 3",
   "language": "python",
   "name": "python3"
  },
  "language_info": {
   "codemirror_mode": {
    "name": "ipython",
    "version": 3
   },
   "file_extension": ".py",
   "mimetype": "text/x-python",
   "name": "python",
   "nbconvert_exporter": "python",
   "pygments_lexer": "ipython3",
   "version": "3.7.9"
  }
 },
 "nbformat": 4,
 "nbformat_minor": 5
}
