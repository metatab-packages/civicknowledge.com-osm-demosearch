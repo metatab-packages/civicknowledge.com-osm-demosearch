{
 "cells": [
  {
   "cell_type": "code",
   "execution_count": 1,
   "metadata": {},
   "outputs": [],
   "source": [
    "import fiona\n",
    "import seaborn as sns\n",
    "import metapack as mp\n",
    "import pandas as pd\n",
    "import numpy as np\n",
    "import matplotlib.pyplot as plt\n",
    "from IPython.display import display \n",
    "\n",
    "%matplotlib inline\n",
    "sns.set_context('notebook')\n",
    "mp.jupyter.init()\n"
   ]
  },
  {
   "cell_type": "code",
   "execution_count": 2,
   "metadata": {},
   "outputs": [
    {
     "data": {
      "text/html": [
       "<h1>Open Street Map Extract for Demographic Search</h1>\n",
       "<p><code>civicknowledge.com-osm-demosearch-1.2.1</code> Last Update: 2021-02-15T17:38:34</p>\n",
       "<p>__</p>\n",
       "<h2>Contacts</h2>\n",
       "<ul>\n",
       "<li><strong>Wrangler</strong> <a href=\"mailto:eric@civicknowledge.com\">Eric Busboom</a>, <a href=\"http://civicknowledge.com\">Civic Knowledge</a></li>\n",
       "</ul>\n",
       "<h2>Resources</h2>\n",
       "<ul>\n",
       "<li><strong> <a href=\"data/geohash_tags.csv\">geohash_tags</a></strong>. Points converted to counts of tags per geohash</li>\n",
       "<li><strong> <a href=\"data/residential_roads.csv\">residential_roads</a></strong>. Residential roads per 4 digit geohash</li>\n",
       "<li><strong> <a href=\"data/nonres_roads.csv\">nonres_roads</a></strong>. Non residential roads per 4 digit geohash</li>\n",
       "<li><strong> <a href=\"data/block_geo.csv\">block_geo</a></strong>. Geographic shapes for blocs in block_osm</li>\n",
       "<li><strong> <a href=\"data/block_osm.csv\">block_osm</a></strong>. Points from geohash_tags allocated to 2020 census blocks</li>\n",
       "<li><strong> <a href=\"data/utm_map.csv\">utm_map</a></strong>. Map from census blocks to UTM zones</li>\n",
       "<li><strong> <a href=\"data/cbsa_map.csv\">cbsa_map</a></strong>. Map from census blocks to CBSA Metros</li>\n",
       "<li><strong> <a href=\"notebooks/PointDensity.ipynb#bus_densities\">bus_densities</a></strong>. High-density business goehashes</li>\n",
       "</ul>\n",
       "<h2>References</h2>\n",
       "<ul><li> <strong>us_geohashes</string>, <em>metapack+http://library.metatab.org/civicknowledge.com-geohash-us.csv#us_geohashes</em>. All 4 digit geohases in the continential US</li><li> <strong><a href=\"https://download.geofabrik.de/north-america-latest.osm.pbf\">north-america-latest</a></strong>. OSM North America extract</li><li> <strong>utm_grid</string>, <em>metapack+http://library.metatab.org/civicknowledge.com-mgrs.csv#utm_grid</em>. </li><li> <strong>points</string>, <em>data/csv/points.csv</em>. Points from the OSM file</li><li> <strong>lines</string>, <em>data/csv/lines.csv</em>. Lines from the OSM file</li><li> <strong>multipolygons</string>, <em>data/csv/multipolygons.csv</em>. Polygons from the OSM file</li><li> <strong>multilinestrings</string>, <em>data/csv/multilinestrings.csv</em>. Lines from the OSM file</li><li> <strong>other_relations</string>, <em>data/csv/other_relations.csv</em>. Other geo data from the OSM file</li><li> <strong>block_templ</string>, <em>censusgeo://2020/5/{st}/block</em>. Block url template</li><li> <strong>cbsa</string>, <em>censusgeo://2020/5/US/cbsa</em>. Metro areas</li><ul>"
      ],
      "text/plain": [
       "# Open Street Map Extract for Demographic Search\n",
       "`civicknowledge.com-osm-demosearch-1.2.1` Last Update: 2021-02-15T17:38:34\n",
       "\n",
       "__\n",
       "\n",
       "\n",
       "\n",
       "\n",
       " \n",
       "\n",
       "## Contacts\n",
       "\n",
       "* **Wrangler** [Eric Busboom](mailto:eric@civicknowledge.com), [Civic Knowledge](http://civicknowledge.com)\n",
       "\n",
       "## Resources\n",
       "\n",
       "* ** [geohash_tags](data/geohash_tags.csv)**. Points converted to counts of tags per geohash\n",
       "* ** [residential_roads](data/residential_roads.csv)**. Residential roads per 4 digit geohash\n",
       "* ** [nonres_roads](data/nonres_roads.csv)**. Non residential roads per 4 digit geohash\n",
       "* ** [block_geo](data/block_geo.csv)**. Geographic shapes for blocs in block_osm\n",
       "* ** [block_osm](data/block_osm.csv)**. Points from geohash_tags allocated to 2020 census blocks\n",
       "* ** [utm_map](data/utm_map.csv)**. Map from census blocks to UTM zones\n",
       "* ** [cbsa_map](data/cbsa_map.csv)**. Map from census blocks to CBSA Metros\n",
       "* ** [bus_densities](notebooks/PointDensity.ipynb#bus_densities)**. High-density business goehashes\n",
       "\n",
       "## References\n",
       "<ul><li> <strong>us_geohashes</string>, <em>metapack+http://library.metatab.org/civicknowledge.com-geohash-us.csv#us_geohashes</em>. All 4 digit geohases in the continential US</li><li> <strong><a href=\"https://download.geofabrik.de/north-america-latest.osm.pbf\">north-america-latest</a></strong>. OSM North America extract</li><li> <strong>utm_grid</string>, <em>metapack+http://library.metatab.org/civicknowledge.com-mgrs.csv#utm_grid</em>. </li><li> <strong>points</string>, <em>data/csv/points.csv</em>. Points from the OSM file</li><li> <strong>lines</string>, <em>data/csv/lines.csv</em>. Lines from the OSM file</li><li> <strong>multipolygons</string>, <em>data/csv/multipolygons.csv</em>. Polygons from the OSM file</li><li> <strong>multilinestrings</string>, <em>data/csv/multilinestrings.csv</em>. Lines from the OSM file</li><li> <strong>other_relations</string>, <em>data/csv/other_relations.csv</em>. Other geo data from the OSM file</li><li> <strong>block_templ</string>, <em>censusgeo://2020/5/{st}/block</em>. Block url template</li><li> <strong>cbsa</string>, <em>censusgeo://2020/5/US/cbsa</em>. Metro areas</li><ul>\n"
      ]
     },
     "execution_count": 2,
     "metadata": {},
     "output_type": "execute_result"
    }
   ],
   "source": [
    "#pkg = mp.jupyter.open_package()\n",
    "pkg = mp.jupyter.open_source_package()\n",
    "pkg"
   ]
  },
  {
   "cell_type": "code",
   "execution_count": 4,
   "metadata": {},
   "outputs": [
    {
     "name": "stdout",
     "output_type": "stream",
     "text": [
      "CPU times: user 2min 14s, sys: 6.3 s, total: 2min 20s\n",
      "Wall time: 2min 21s\n"
     ]
    }
   ],
   "source": [
    "%time blocks = pkg.resource('block_geo').geoframe()"
   ]
  },
  {
   "cell_type": "code",
   "execution_count": 5,
   "metadata": {},
   "outputs": [
    {
     "name": "stdout",
     "output_type": "stream",
     "text": [
      "CPU times: user 1.21 s, sys: 223 ms, total: 1.44 s\n",
      "Wall time: 1.44 s\n"
     ]
    }
   ],
   "source": [
    "%time osm_blocks = pkg.resource('block_osm').dataframe()"
   ]
  },
  {
   "cell_type": "code",
   "execution_count": 7,
   "metadata": {},
   "outputs": [
    {
     "name": "stdout",
     "output_type": "stream",
     "text": [
      "CPU times: user 7.18 s, sys: 1.34 s, total: 8.52 s\n",
      "Wall time: 8.6 s\n",
      "CPU times: user 5.59 s, sys: 885 ms, total: 6.47 s\n",
      "Wall time: 6.54 s\n"
     ]
    }
   ],
   "source": [
    "%time utm_map = pkg.resource('utm_map').dataframe()\n",
    "%time  cbsa_map = pkg.resource('cbsa_map').dataframe()"
   ]
  },
  {
   "cell_type": "code",
   "execution_count": 27,
   "metadata": {},
   "outputs": [
    {
     "ename": "SyntaxError",
     "evalue": "unexpected character after line continuation character (<ipython-input-27-a6def5368d42>, line 1)",
     "output_type": "error",
     "traceback": [
      "\u001b[0;36m  File \u001b[0;32m\"<ipython-input-27-a6def5368d42>\"\u001b[0;36m, line \u001b[0;32m1\u001b[0m\n\u001b[0;31m    t = utm_map[['geoid','band', 'epsg']]\\.merge(cbsa_map.rename(columns={'block':'geoid'}), how='left')\u001b[0m\n\u001b[0m                                                                                                        ^\u001b[0m\n\u001b[0;31mSyntaxError\u001b[0m\u001b[0;31m:\u001b[0m unexpected character after line continuation character\n"
     ]
    }
   ],
   "source": [
    "t = utm_map[['geoid','band', 'epsg']]\\\n",
    "    .merge(cbsa_map.rename(columns={'block':'geoid'}), how='left')"
   ]
  },
  {
   "cell_type": "code",
   "execution_count": 20,
   "metadata": {},
   "outputs": [
    {
     "data": {
      "text/plain": [
       "6784756"
      ]
     },
     "execution_count": 20,
     "metadata": {},
     "output_type": "execute_result"
    }
   ],
   "source": [
    "np.sum(~t.cbsa.isnull())"
   ]
  },
  {
   "cell_type": "code",
   "execution_count": 26,
   "metadata": {},
   "outputs": [],
   "source": [
    "ob_index = osm_blocks[['geoid']].merge(t)"
   ]
  },
  {
   "cell_type": "code",
   "execution_count": 29,
   "metadata": {},
   "outputs": [
    {
     "data": {
      "text/html": [
       "<div>\n",
       "<style scoped>\n",
       "    .dataframe tbody tr th:only-of-type {\n",
       "        vertical-align: middle;\n",
       "    }\n",
       "\n",
       "    .dataframe tbody tr th {\n",
       "        vertical-align: top;\n",
       "    }\n",
       "\n",
       "    .dataframe thead th {\n",
       "        text-align: right;\n",
       "    }\n",
       "</style>\n",
       "<table border=\"1\" class=\"dataframe\">\n",
       "  <thead>\n",
       "    <tr style=\"text-align: right;\">\n",
       "      <th></th>\n",
       "      <th>geoid</th>\n",
       "      <th>band</th>\n",
       "      <th>epsg</th>\n",
       "      <th>cbsa</th>\n",
       "    </tr>\n",
       "  </thead>\n",
       "  <tbody>\n",
       "    <tr>\n",
       "      <th>0</th>\n",
       "      <td>10100US010010201001001</td>\n",
       "      <td>16</td>\n",
       "      <td>32616</td>\n",
       "      <td>31000US33860</td>\n",
       "    </tr>\n",
       "    <tr>\n",
       "      <th>1</th>\n",
       "      <td>10100US010010201001015</td>\n",
       "      <td>16</td>\n",
       "      <td>32616</td>\n",
       "      <td>31000US33860</td>\n",
       "    </tr>\n",
       "    <tr>\n",
       "      <th>2</th>\n",
       "      <td>10100US010010201001018</td>\n",
       "      <td>16</td>\n",
       "      <td>32616</td>\n",
       "      <td>31000US33860</td>\n",
       "    </tr>\n",
       "    <tr>\n",
       "      <th>3</th>\n",
       "      <td>10100US010010201001021</td>\n",
       "      <td>16</td>\n",
       "      <td>32616</td>\n",
       "      <td>31000US33860</td>\n",
       "    </tr>\n",
       "    <tr>\n",
       "      <th>4</th>\n",
       "      <td>10100US010010201001023</td>\n",
       "      <td>16</td>\n",
       "      <td>32616</td>\n",
       "      <td>31000US33860</td>\n",
       "    </tr>\n",
       "    <tr>\n",
       "      <th>...</th>\n",
       "      <td>...</td>\n",
       "      <td>...</td>\n",
       "      <td>...</td>\n",
       "      <td>...</td>\n",
       "    </tr>\n",
       "    <tr>\n",
       "      <th>741647</th>\n",
       "      <td>10100US560459513002031</td>\n",
       "      <td>13</td>\n",
       "      <td>32613</td>\n",
       "      <td>31000US23940</td>\n",
       "    </tr>\n",
       "    <tr>\n",
       "      <th>741648</th>\n",
       "      <td>10100US560459513002051</td>\n",
       "      <td>13</td>\n",
       "      <td>32613</td>\n",
       "      <td>31000US23940</td>\n",
       "    </tr>\n",
       "    <tr>\n",
       "      <th>741649</th>\n",
       "      <td>10100US560459513002062</td>\n",
       "      <td>13</td>\n",
       "      <td>32613</td>\n",
       "      <td>31000US23940</td>\n",
       "    </tr>\n",
       "    <tr>\n",
       "      <th>741650</th>\n",
       "      <td>10100US560459513002064</td>\n",
       "      <td>13</td>\n",
       "      <td>32613</td>\n",
       "      <td>31000US23940</td>\n",
       "    </tr>\n",
       "    <tr>\n",
       "      <th>741651</th>\n",
       "      <td>10100US560459513002066</td>\n",
       "      <td>13</td>\n",
       "      <td>32613</td>\n",
       "      <td>31000US23940</td>\n",
       "    </tr>\n",
       "  </tbody>\n",
       "</table>\n",
       "<p>741652 rows × 4 columns</p>\n",
       "</div>"
      ],
      "text/plain": [
       "                         geoid  band   epsg          cbsa\n",
       "0       10100US010010201001001    16  32616  31000US33860\n",
       "1       10100US010010201001015    16  32616  31000US33860\n",
       "2       10100US010010201001018    16  32616  31000US33860\n",
       "3       10100US010010201001021    16  32616  31000US33860\n",
       "4       10100US010010201001023    16  32616  31000US33860\n",
       "...                        ...   ...    ...           ...\n",
       "741647  10100US560459513002031    13  32613  31000US23940\n",
       "741648  10100US560459513002051    13  32613  31000US23940\n",
       "741649  10100US560459513002062    13  32613  31000US23940\n",
       "741650  10100US560459513002064    13  32613  31000US23940\n",
       "741651  10100US560459513002066    13  32613  31000US23940\n",
       "\n",
       "[741652 rows x 4 columns]"
      ]
     },
     "execution_count": 29,
     "metadata": {},
     "output_type": "execute_result"
    }
   ],
   "source": []
  },
  {
   "cell_type": "code",
   "execution_count": 32,
   "metadata": {},
   "outputs": [
    {
     "data": {
      "text/html": [
       "<div>\n",
       "<style scoped>\n",
       "    .dataframe tbody tr th:only-of-type {\n",
       "        vertical-align: middle;\n",
       "    }\n",
       "\n",
       "    .dataframe tbody tr th {\n",
       "        vertical-align: top;\n",
       "    }\n",
       "\n",
       "    .dataframe thead th {\n",
       "        text-align: right;\n",
       "    }\n",
       "</style>\n",
       "<table border=\"1\" class=\"dataframe\">\n",
       "  <thead>\n",
       "    <tr style=\"text-align: right;\">\n",
       "      <th></th>\n",
       "      <th>geoid</th>\n",
       "      <th>band</th>\n",
       "      <th>epsg</th>\n",
       "    </tr>\n",
       "    <tr>\n",
       "      <th>cbsa</th>\n",
       "      <th></th>\n",
       "      <th></th>\n",
       "      <th></th>\n",
       "    </tr>\n",
       "  </thead>\n",
       "  <tbody>\n",
       "    <tr>\n",
       "      <th>31000US35620</th>\n",
       "      <td>24970</td>\n",
       "      <td>24970</td>\n",
       "      <td>24970</td>\n",
       "    </tr>\n",
       "    <tr>\n",
       "      <th>31000US16980</th>\n",
       "      <td>15005</td>\n",
       "      <td>15005</td>\n",
       "      <td>15005</td>\n",
       "    </tr>\n",
       "    <tr>\n",
       "      <th>31000US31080</th>\n",
       "      <td>12445</td>\n",
       "      <td>12445</td>\n",
       "      <td>12445</td>\n",
       "    </tr>\n",
       "    <tr>\n",
       "      <th>31000US47900</th>\n",
       "      <td>10257</td>\n",
       "      <td>10257</td>\n",
       "      <td>10257</td>\n",
       "    </tr>\n",
       "    <tr>\n",
       "      <th>31000US37980</th>\n",
       "      <td>10137</td>\n",
       "      <td>10137</td>\n",
       "      <td>10137</td>\n",
       "    </tr>\n",
       "    <tr>\n",
       "      <th>...</th>\n",
       "      <td>...</td>\n",
       "      <td>...</td>\n",
       "      <td>...</td>\n",
       "    </tr>\n",
       "    <tr>\n",
       "      <th>31000US14420</th>\n",
       "      <td>33</td>\n",
       "      <td>33</td>\n",
       "      <td>33</td>\n",
       "    </tr>\n",
       "    <tr>\n",
       "      <th>31000US11380</th>\n",
       "      <td>25</td>\n",
       "      <td>25</td>\n",
       "      <td>25</td>\n",
       "    </tr>\n",
       "    <tr>\n",
       "      <th>31000US49820</th>\n",
       "      <td>21</td>\n",
       "      <td>21</td>\n",
       "      <td>21</td>\n",
       "    </tr>\n",
       "    <tr>\n",
       "      <th>31000US30220</th>\n",
       "      <td>18</td>\n",
       "      <td>18</td>\n",
       "      <td>18</td>\n",
       "    </tr>\n",
       "    <tr>\n",
       "      <th>31000US29500</th>\n",
       "      <td>13</td>\n",
       "      <td>13</td>\n",
       "      <td>13</td>\n",
       "    </tr>\n",
       "  </tbody>\n",
       "</table>\n",
       "<p>927 rows × 3 columns</p>\n",
       "</div>"
      ],
      "text/plain": [
       "              geoid   band   epsg\n",
       "cbsa                             \n",
       "31000US35620  24970  24970  24970\n",
       "31000US16980  15005  15005  15005\n",
       "31000US31080  12445  12445  12445\n",
       "31000US47900  10257  10257  10257\n",
       "31000US37980  10137  10137  10137\n",
       "...             ...    ...    ...\n",
       "31000US14420     33     33     33\n",
       "31000US11380     25     25     25\n",
       "31000US49820     21     21     21\n",
       "31000US30220     18     18     18\n",
       "31000US29500     13     13     13\n",
       "\n",
       "[927 rows x 3 columns]"
      ]
     },
     "execution_count": 32,
     "metadata": {},
     "output_type": "execute_result"
    }
   ],
   "source": [
    "ob_index.groupby('cbsa').count().sort_values('geoid',ascending=False)"
   ]
  },
  {
   "cell_type": "code",
   "execution_count": 66,
   "metadata": {},
   "outputs": [],
   "source": [
    "from demosearch.search import ftsearch\n",
    "from demosearch import FileCache\n",
    "fc = FileCache('/Volumes/SSD_Extern/radius')\n",
    "geoid = '31000US41740' #ftsearch(fc, 'Diego')[0].geoid\n",
    "\n",
    "t = blocks.merge(ob_index[ob_index.cbsa == geoid], how='right')\n",
    "t = t[['geoid', 'geometry']].merge(osm_blocks)\n",
    "t['business'] = t.shop+t.bank+t.bar+t.cafe+t.clothes+t.convenience+t.bank+t.fast_food\\\n",
    "                +t.restaurant+t.supermarket\n",
    "t['entertain'] = t.bar+t.cafe+t.convenience+t.bank+t.fast_food+t.restaurant\n",
    "t[t.business+t.entertain > 0].to_csv('business_blocks.csv')"
   ]
  }
 ],
 "metadata": {
  "kernelspec": {
   "display_name": "Python 3",
   "language": "python",
   "name": "python3"
  },
  "language_info": {
   "codemirror_mode": {
    "name": "ipython",
    "version": 3
   },
   "file_extension": ".py",
   "mimetype": "text/x-python",
   "name": "python",
   "nbconvert_exporter": "python",
   "pygments_lexer": "ipython3",
   "version": "3.7.9"
  }
 },
 "nbformat": 4,
 "nbformat_minor": 4
}
