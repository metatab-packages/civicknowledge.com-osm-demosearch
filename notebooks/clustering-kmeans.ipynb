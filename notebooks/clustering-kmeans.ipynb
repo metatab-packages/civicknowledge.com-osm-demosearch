{
 "cells": [
  {
   "cell_type": "code",
   "execution_count": 1,
   "id": "quiet-grocery",
   "metadata": {},
   "outputs": [
    {
     "data": {
      "text/html": [
       "<h1>Open Street Map Extract for Demographic Search</h1>\n",
       "<p><code>civicknowledge.com-osm-demosearch-1.2.1</code> Last Update: 2021-02-15T17:38:34</p>\n",
       "<p>__</p>\n",
       "<h2>Contacts</h2>\n",
       "<ul>\n",
       "<li><strong>Wrangler</strong> <a href=\"mailto:eric@civicknowledge.com\">Eric Busboom</a>, <a href=\"http://civicknowledge.com\">Civic Knowledge</a></li>\n",
       "</ul>\n",
       "<h2>Resources</h2>\n",
       "<ul>\n",
       "<li><strong> <a href=\"data/point_tags.csv\">point_tags</a></strong>. Points converted to counts of tags per geohash</li>\n",
       "<li><strong> <a href=\"data/residential_roads.csv\">residential_roads</a></strong>. Residential roads per 4 digit geohash</li>\n",
       "<li><strong> <a href=\"data/nonres_roads.csv\">nonres_roads</a></strong>. Non residential roads per 4 digit geohash</li>\n",
       "<li><strong> <a href=\"data/block_geo.csv\">block_geo</a></strong>. Geographic shapes for blocs in block_osm</li>\n",
       "<li><strong> <a href=\"data/block_osm.csv\">block_osm</a></strong>. Points from geohash_tags allocated to 2020 census blocks</li>\n",
       "<li><strong> <a href=\"data/utm_map.csv\">utm_map</a></strong>. Map from census blocks to UTM zones</li>\n",
       "<li><strong> <a href=\"data/cbsa_map.csv\">cbsa_map</a></strong>. Map from census blocks to CBSA Metros</li>\n",
       "<li><strong> <a href=\"notebooks/PointDensity.ipynb#bus_densities\">bus_densities</a></strong>. High-density business goehashes</li>\n",
       "</ul>\n",
       "<h2>References</h2>\n",
       "<ul><li> <strong>us_geohashes</string>, <em>metapack+http://library.metatab.org/civicknowledge.com-geohash-us.csv#us_geohashes</em>. All 4 digit geohases in the continential US</li><li> <strong><a href=\"https://download.geofabrik.de/north-america-latest.osm.pbf\">north-america-latest</a></strong>. OSM North America extract</li><li> <strong>utm_grid</string>, <em>metapack+http://library.metatab.org/civicknowledge.com-mgrs.csv#utm_grid</em>. </li><li> <strong>points</string>, <em>data/csv/points.csv</em>. Points from the OSM file</li><li> <strong>lines</string>, <em>data/csv/lines.csv</em>. Lines from the OSM file</li><li> <strong>multipolygons</string>, <em>data/csv/multipolygons.csv</em>. Polygons from the OSM file</li><li> <strong>multilinestrings</string>, <em>data/csv/multilinestrings.csv</em>. Lines from the OSM file</li><li> <strong>other_relations</string>, <em>data/csv/other_relations.csv</em>. Other geo data from the OSM file</li><li> <strong>block_templ</string>, <em>censusgeo://2020/5/{st}/block</em>. Block url template</li><li> <strong>cbsa</string>, <em>censusgeo://2020/5/US/cbsa</em>. Metro areas</li><ul>"
      ],
      "text/plain": [
       "# Open Street Map Extract for Demographic Search\n",
       "`civicknowledge.com-osm-demosearch-1.2.1` Last Update: 2021-02-15T17:38:34\n",
       "\n",
       "__\n",
       "\n",
       "\n",
       "\n",
       "\n",
       " \n",
       "\n",
       "## Contacts\n",
       "\n",
       "* **Wrangler** [Eric Busboom](mailto:eric@civicknowledge.com), [Civic Knowledge](http://civicknowledge.com)\n",
       "\n",
       "## Resources\n",
       "\n",
       "* ** [point_tags](data/point_tags.csv)**. Points converted to counts of tags per geohash\n",
       "* ** [residential_roads](data/residential_roads.csv)**. Residential roads per 4 digit geohash\n",
       "* ** [nonres_roads](data/nonres_roads.csv)**. Non residential roads per 4 digit geohash\n",
       "* ** [block_geo](data/block_geo.csv)**. Geographic shapes for blocs in block_osm\n",
       "* ** [block_osm](data/block_osm.csv)**. Points from geohash_tags allocated to 2020 census blocks\n",
       "* ** [utm_map](data/utm_map.csv)**. Map from census blocks to UTM zones\n",
       "* ** [cbsa_map](data/cbsa_map.csv)**. Map from census blocks to CBSA Metros\n",
       "* ** [bus_densities](notebooks/PointDensity.ipynb#bus_densities)**. High-density business goehashes\n",
       "\n",
       "## References\n",
       "<ul><li> <strong>us_geohashes</string>, <em>metapack+http://library.metatab.org/civicknowledge.com-geohash-us.csv#us_geohashes</em>. All 4 digit geohases in the continential US</li><li> <strong><a href=\"https://download.geofabrik.de/north-america-latest.osm.pbf\">north-america-latest</a></strong>. OSM North America extract</li><li> <strong>utm_grid</string>, <em>metapack+http://library.metatab.org/civicknowledge.com-mgrs.csv#utm_grid</em>. </li><li> <strong>points</string>, <em>data/csv/points.csv</em>. Points from the OSM file</li><li> <strong>lines</string>, <em>data/csv/lines.csv</em>. Lines from the OSM file</li><li> <strong>multipolygons</string>, <em>data/csv/multipolygons.csv</em>. Polygons from the OSM file</li><li> <strong>multilinestrings</string>, <em>data/csv/multilinestrings.csv</em>. Lines from the OSM file</li><li> <strong>other_relations</string>, <em>data/csv/other_relations.csv</em>. Other geo data from the OSM file</li><li> <strong>block_templ</string>, <em>censusgeo://2020/5/{st}/block</em>. Block url template</li><li> <strong>cbsa</string>, <em>censusgeo://2020/5/US/cbsa</em>. Metro areas</li><ul>\n"
      ]
     },
     "execution_count": 1,
     "metadata": {},
     "output_type": "execute_result"
    }
   ],
   "source": [
    "%load_ext autoreload\n",
    "%autoreload 2\n",
    "    \n",
    "import fiona\n",
    "from pathlib import Path\n",
    "import metapack as mp\n",
    "import geopandas as gpd\n",
    "import pandas as pd\n",
    "import numpy as np\n",
    "from auto_tqdm import tqdm \n",
    "import appnope\n",
    "\n",
    "doc = mp.jupyter.open_source_package()\n",
    "doc.set_sys_path()\n",
    "import  pylib \n",
    "\n",
    "ea_epsg = 2163 #US Equal Area projection\n",
    "\n",
    "import logging\n",
    "logging.basicConfig()\n",
    "\n",
    "from pylib import lines_logger, points_logger\n",
    "lines_logger.setLevel(logging.DEBUG)\n",
    "points_logger.setLevel(logging.DEBUG)\n",
    "\n",
    "pkg_root = Path(doc.path).parent\n",
    "pkg = mp.open_package(pkg_root)\n",
    "cache = pylib.open_cache(pkg)\n",
    "pkg\n"
   ]
  },
  {
   "cell_type": "code",
   "execution_count": 2,
   "id": "adult-frame",
   "metadata": {},
   "outputs": [
    {
     "name": "stdout",
     "output_type": "stream",
     "text": [
      "CPU times: user 3min 56s, sys: 3.46 s, total: 3min 59s\n",
      "Wall time: 4min 1s\n"
     ]
    }
   ],
   "source": [
    "%time pt  = pkg.resource('point_tags').geoframe()"
   ]
  },
  {
   "cell_type": "code",
   "execution_count": 3,
   "id": "worst-harris",
   "metadata": {},
   "outputs": [
    {
     "data": {
      "text/plain": [
       "(slice(-117.611081, -116.08094, None),\n",
       " slice(32.528832, 33.505024999999996, None))"
      ]
     },
     "execution_count": 3,
     "metadata": {},
     "output_type": "execute_result"
    }
   ],
   "source": [
    "from demosearch import FileCache\n",
    "from demosearch.search import ftsearch\n",
    "import utm\n",
    "from collections import defaultdict\n",
    "\n",
    "fc = FileCache('/Volumes/SSD_Extern/radius/')\n",
    "def ftbb(s):\n",
    "    bb = ftsearch(fc, s)[0].bb\n",
    "    return (slice(bb[0],bb[2]), slice(bb[1],bb[3]))\n",
    "\n",
    "ftbb('San Diego')\n"
   ]
  },
  {
   "cell_type": "code",
   "execution_count": 4,
   "id": "acoustic-nancy",
   "metadata": {},
   "outputs": [],
   "source": [
    "r=ftsearch(fc, 'San Diego')[0]\n",
    "sd = pt[pt.geoid==r.geoid]\n",
    "\n"
   ]
  },
  {
   "cell_type": "code",
   "execution_count": 5,
   "id": "proper-fever",
   "metadata": {},
   "outputs": [],
   "source": [
    "sd.to_csv('business_points.csv')"
   ]
  },
  {
   "cell_type": "code",
   "execution_count": 51,
   "id": "coupled-project",
   "metadata": {},
   "outputs": [],
   "source": [
    "\n",
    "from sklearn.cluster import KMeans\n",
    "import numpy as np\n",
    "\n",
    "sdu = sd.to_crs(32611)\n",
    "km = pd.DataFrame({\n",
    "        'gh': sdu.geohash,\n",
    "        'x': sdu.geometry.x,\n",
    "        'y': sdu.geometry.y\n",
    "})\n",
    "\n",
    "X = km[['x','y']]\n",
    "kmeans = KMeans(n_clusters=2000, random_state=0).fit(X)\n",
    "\n",
    "km['cluster'] = kmeans.predict(X)\n",
    "km['geometry'] = gpd.points_from_xy(km.x, km.y, crs=sdu.crs)\n",
    "km.to_csv('kmeans_clusters.csv')"
   ]
  },
  {
   "cell_type": "code",
   "execution_count": 48,
   "id": "detected-intention",
   "metadata": {},
   "outputs": [],
   "source": [
    "t = km.cluster.value_counts()\n",
    "lg_clusters = t[t>20].index"
   ]
  },
  {
   "cell_type": "code",
   "execution_count": 49,
   "id": "thrown-motion",
   "metadata": {},
   "outputs": [],
   "source": [
    "km[km.cluster.isin(lg_clusters)].to_csv('kmeans_clusters.csv')"
   ]
  },
  {
   "cell_type": "code",
   "execution_count": 50,
   "id": "moderate-recipe",
   "metadata": {},
   "outputs": [
    {
     "data": {
      "text/plain": [
       "Int64Index([ 65,  74,  15, 532, 180, 135,  16, 828, 978, 719,\n",
       "            ...\n",
       "            392, 159, 347, 673, 713, 720, 320, 815, 428, 569],\n",
       "           dtype='int64', length=194)"
      ]
     },
     "execution_count": 50,
     "metadata": {},
     "output_type": "execute_result"
    }
   ],
   "source": [
    "lg_clusters"
   ]
  },
  {
   "cell_type": "code",
   "execution_count": null,
   "id": "fundamental-miniature",
   "metadata": {},
   "outputs": [],
   "source": []
  }
 ],
 "metadata": {
  "kernelspec": {
   "display_name": "Python 3",
   "language": "python",
   "name": "python3"
  },
  "language_info": {
   "codemirror_mode": {
    "name": "ipython",
    "version": 3
   },
   "file_extension": ".py",
   "mimetype": "text/x-python",
   "name": "python",
   "nbconvert_exporter": "python",
   "pygments_lexer": "ipython3",
   "version": "3.7.9"
  },
  "toc-autonumbering": false,
  "toc-showcode": false,
  "toc-showmarkdowntxt": false
 },
 "nbformat": 4,
 "nbformat_minor": 5
}
