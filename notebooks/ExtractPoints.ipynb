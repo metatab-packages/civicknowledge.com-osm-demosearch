{
 "cells": [
  {
   "cell_type": "code",
   "execution_count": 1,
   "metadata": {},
   "outputs": [],
   "source": [
    "%load_ext autoreload\n",
    "%autoreload 2\n",
    "from pathlib import Path\n",
    "import metapack as mp\n",
    "import numpy as np\n",
    "mp.jupyter.init() # Makes 'index:' url work\n",
    "import metapack as mp\n",
    "\n",
    "#pkg = mp.jupyter.open_package()\n",
    "pkg = mp.jupyter.open_source_package()\n",
    "pkg.set_sys_path()\n",
    "import pylib\n",
    "\n"
   ]
  },
  {
   "cell_type": "code",
   "execution_count": 2,
   "metadata": {},
   "outputs": [
    {
     "name": "stdout",
     "output_type": "stream",
     "text": [
      "-- Make tags dataframe\n",
      "CPU times: user 11.7 s, sys: 530 ms, total: 12.3 s\n",
      "Wall time: 12.3 s\n",
      "-- Extract class Columns\n",
      "CPU times: user 4.12 s, sys: 331 ms, total: 4.45 s\n",
      "Wall time: 4.45 s\n",
      "-- Make geotags dataframe\n",
      "CPU times: user 1min 19s, sys: 1.13 s, total: 1min 21s\n",
      "Wall time: 1min 21s\n"
     ]
    }
   ],
   "source": [
    "#pkg = mp.jupyter.open_package()\n",
    "pkg = mp.jupyter.open_source_package()\n",
    "print('-- Make tags dataframe')\n",
    "%time tags_df = pylib.make_tags_df(pkg)\n",
    "print('-- Extract class Columns')\n",
    "%time cls_df = pylib.extract_class_columns(tags_df)\n",
    "print('-- Make geotags dataframe')\n",
    "%time ght = pylib.make_geotags_df(pkg, tags_df, cls_df)"
   ]
  }
 ],
 "metadata": {
  "kernelspec": {
   "display_name": "Python 3",
   "language": "python",
   "name": "python3"
  },
  "language_info": {
   "codemirror_mode": {
    "name": "ipython",
    "version": 3
   },
   "file_extension": ".py",
   "mimetype": "text/x-python",
   "name": "python",
   "nbconvert_exporter": "python",
   "pygments_lexer": "ipython3",
   "version": "3.7.9"
  }
 },
 "nbformat": 4,
 "nbformat_minor": 4
}
